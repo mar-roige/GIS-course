{
  "nbformat": 4,
  "nbformat_minor": 0,
  "metadata": {
    "colab": {
      "name": "0_GetDataAndTools.ipynb",
      "provenance": [],
      "collapsed_sections": [],
      "include_colab_link": true
    },
    "kernelspec": {
      "name": "python3",
      "display_name": "Python 3"
    }
  },
  "cells": [
    {
      "cell_type": "markdown",
      "metadata": {
        "id": "view-in-github",
        "colab_type": "text"
      },
      "source": [
        "<a href=\"https://colab.research.google.com/github/mar-roige/GIS-course/blob/master/0_GetDataAndTools.ipynb\" target=\"_parent\"><img src=\"https://colab.research.google.com/assets/colab-badge.svg\" alt=\"Open In Colab\"/></a>"
      ]
    },
    {
      "cell_type": "markdown",
      "metadata": {
        "id": "COZLcSnE2k30",
        "colab_type": "text"
      },
      "source": [
        "# What's a notebook and how does it work?\n",
        "\n",
        "These notebooks have two types of cells. There are text cells, which I use to explain things to you, and code cells which we will use to do things\n",
        "\n",
        "Text cells are written in a language called Markdown.\n",
        "\n",
        "Code cells are written in a language called python. In this course we'll mostly be using python. As you know, stereotypically archaeologists hate snakes. Python is the exception to this.\n",
        "\n",
        "You can add text or code cells to your version of the notebook. To make things happen in a code cell you can click on the cell and then type 'ctrl + enter' or push the play button that will appear on the left.\n",
        "\n",
        "\n",
        "# What we are doing\n",
        "In this introductory exercise, you will get some tools you need to work with simple spatial data and you will also open up some data. To get started, we will get the tools we need. We will always start a practical exercise in a notebook like this."
      ]
    },
    {
      "cell_type": "code",
      "metadata": {
        "id": "vMmtCROs70ej",
        "colab_type": "code",
        "colab": {}
      },
      "source": [
        "#start by importing a tool you want. Pandas is a basic tool for working with text and spreadsheet type data. Just say 'import' and the name of the tool\n",
        "import pandas as pd\n"
      ],
      "execution_count": 0,
      "outputs": []
    },
    {
      "cell_type": "markdown",
      "metadata": {
        "id": "Gy9N6RBt4ISP",
        "colab_type": "text"
      },
      "source": [
        "## Now try to import another tool\n",
        "Add another code cell below this one and figure out how to import matplotlib"
      ]
    },
    {
      "cell_type": "markdown",
      "metadata": {
        "id": "XxJMOyFU4dbQ",
        "colab_type": "text"
      },
      "source": [
        "## Now try to import another tool\n",
        "Add another code cell below this one and try to import geopandas and give it the abbreviation 'gpd'"
      ]
    },
    {
      "cell_type": "code",
      "metadata": {
        "id": "YgPNKDBC38TQ",
        "colab_type": "code",
        "colab": {}
      },
      "source": [
        "# Odds are that didn't work... Some tools need an additional 'install' step. \n",
        "# This happens when the tooll isn't in the colab environment in the cloud already.\n",
        "# If something doesn't import, I pretty much always try to '!pip install' it.\n",
        "# pip is python's tool for getting tools. Very meta.\n",
        "!pip install geopandas\n",
        "import geopandas as gpd"
      ],
      "execution_count": 0,
      "outputs": []
    },
    {
      "cell_type": "markdown",
      "metadata": {
        "id": "hBYtz1065Hzl",
        "colab_type": "text"
      },
      "source": [
        "You now have three tools. Whenever you need more tools, import them. \n",
        "\n",
        "## Now you need data.\n",
        "\n",
        "You can see some geojson (vector for the internet) data from Canmore that represents locations of sites on Shetland as points with descriptive attributes [here](http://ropitz.github.io/digitalantiquity/data/CanmoreShetlandPoints.geojson)\n",
        "\n",
        "Have a look and identify the coordinates (spatial data), attributes, and coordinate system EPSG code.\n",
        "\n",
        "Write an example of each one in a new text field below this one in your notebook. "
      ]
    },
    {
      "cell_type": "markdown",
      "metadata": {
        "id": "xHidimvO6Sll",
        "colab_type": "text"
      },
      "source": [
        "**Import** the data into the notebook by telling the notebook the URL (web address) where the data is located and asking it to read that file using the geopandas tool. \n",
        "\n",
        "**Give the file a name** within the notebook. Here I've called it 'df'"
      ]
    },
    {
      "cell_type": "code",
      "metadata": {
        "id": "ehdvcH7l3tWx",
        "colab_type": "code",
        "colab": {}
      },
      "source": [
        "\n",
        "url = \"http://ropitz.github.io/digitalantiquity/data/CanmoreShetlandPoints.geojson\"\n",
        "df = gpd.read_file(url)"
      ],
      "execution_count": 0,
      "outputs": []
    },
    {
      "cell_type": "markdown",
      "metadata": {
        "id": "IKFBwPHu7Ivp",
        "colab_type": "text"
      },
      "source": [
        "## How do you see what's in your data?\n",
        "\n",
        "The command .head() will show you the first part of any file in a notebook."
      ]
    },
    {
      "cell_type": "code",
      "metadata": {
        "id": "yuxHVE-V7GG4",
        "colab_type": "code",
        "colab": {}
      },
      "source": [
        "# go ahead and look at the first few lines of the file. Note this is slightly easier to read than the raw geojson\n",
        "df.head()"
      ],
      "execution_count": 0,
      "outputs": []
    },
    {
      "cell_type": "markdown",
      "metadata": {
        "id": "493PX4Ve7rgs",
        "colab_type": "text"
      },
      "source": [
        "## Well, if it's spatial data, you should be able to plot it\n",
        "\n",
        "This is usually fairly easy. For any spatial dataset, just call its name and say .plot()"
      ]
    },
    {
      "cell_type": "code",
      "metadata": {
        "id": "p4CFpEus711c",
        "colab_type": "code",
        "colab": {}
      },
      "source": [
        "df.plot()"
      ],
      "execution_count": 0,
      "outputs": []
    },
    {
      "cell_type": "markdown",
      "metadata": {
        "id": "fF0MquuG_hDH",
        "colab_type": "text"
      },
      "source": [
        "Not very pretty... Next week we'll learn about making pretty maps. "
      ]
    },
    {
      "cell_type": "markdown",
      "metadata": {
        "id": "oZ9cqoIf8Umk",
        "colab_type": "text"
      },
      "source": [
        "## Challenge\n",
        "\n",
        "Go find some other archaeological, read it into the notebook, and plot it. \n",
        "\n",
        "Like the scheduled monuments from York:\n",
        "[https://opendata.arcgis.com/datasets/26857683681542b798ef97708cbdaf61_14.geojson](https://opendata.arcgis.com/datasets/26857683681542b798ef97708cbdaf61_14.geojson)\n",
        "\n",
        "Or know wrecks off the coast of Northern Ireland: [https://www.opendatani.gov.uk/dataset/c5fceed7-b07a-4bc4-a0a0-8c45b9033083/resource/2d8da801-39f7-48b7-81ad-8db58d107962/download/protected_wrecks.geojson](https://www.opendatani.gov.uk/dataset/c5fceed7-b07a-4bc4-a0a0-8c45b9033083/resource/2d8da801-39f7-48b7-81ad-8db58d107962/download/protected_wrecks.geojson)\n",
        "\n",
        "Or any other open data you find in the geojson format..."
      ]
    }
  ]
}