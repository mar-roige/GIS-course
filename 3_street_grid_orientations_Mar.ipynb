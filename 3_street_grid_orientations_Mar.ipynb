{
  "nbformat": 4,
  "nbformat_minor": 0,
  "metadata": {
    "colab": {
      "name": "3_street_grid_orientations.ipynb",
      "provenance": [],
      "collapsed_sections": [
        "QpkDgyMgsb2W"
      ],
      "include_colab_link": true
    },
    "kernelspec": {
      "name": "python3",
      "display_name": "Python 3"
    }
  },
  "cells": [
    {
      "cell_type": "markdown",
      "metadata": {
        "id": "view-in-github",
        "colab_type": "text"
      },
      "source": [
        "<a href=\"https://colab.research.google.com/github/mar-roige/GIS-course/blob/master/3_street_grid_orientations_Mar.ipynb\" target=\"_parent\"><img src=\"https://colab.research.google.com/assets/colab-badge.svg\" alt=\"Open In Colab\"/></a>"
      ]
    },
    {
      "cell_type": "markdown",
      "metadata": {
        "id": "IY8A-DZDhgae",
        "colab_type": "text"
      },
      "source": [
        "## **Orientation within street grid maps** ##\n",
        "\n",
        "This practical class aims to help you to further expand your interpretative capabilities of the archaeological record within place and space. This week, we'll explore Urban Landscape and more specifically how past urbanisation can define the shape of modern cities. Through two contrasting examples, you’ll make use of open source data, and start thinking, qualifying and quantifying the diverse layout of modern cities. \n",
        "\n",
        "<font color='magenta'> ~ new ~</font> This practical lab will provide you ways to do so by:\n",
        "   * using orientation to explore spatial patterns;\n",
        "   * using classification of multiple variables to understand clusters in space;\n",
        "   * **need to expand**"
      ]
    },
    {
      "cell_type": "markdown",
      "metadata": {
        "id": "CzBkUHsADZFk",
        "colab_type": "text"
      },
      "source": [
        "### Getting started #### \n",
        "<font color='orangered'> ~ déjà vu ~</font> Make your own copy of this notebook. \n",
        "\n",
        "<font color='magenta'> ~ new ~</font> Most basic tools we need are pre-installed in google ColabReseach. The tools for this exercise are not, so we need to do some extra setup. \n"
      ]
    },
    {
      "cell_type": "markdown",
      "metadata": {
        "id": "QpkDgyMgsb2W",
        "colab_type": "text"
      },
      "source": [
        "### Install `libspatialindex` -- run once per on startup"
      ]
    },
    {
      "cell_type": "code",
      "metadata": {
        "id": "W1M0h_OkqfVY",
        "colab_type": "code",
        "colab": {}
      },
      "source": [
        "# Most basic tools we need are pre-installed in google colab. The tools for this exercise are not, so we need to do some extra setup. \n",
        "# Run this cell to install some necessary libraries. Then move on.\n",
        "!curl -L http://download.osgeo.org/libspatialindex/spatialindex-src-1.8.5.tar.gz 2>/dev/null | tar xz\n",
        "!apt-get install -qq g++ make\n",
        "import os\n",
        "os.chdir('/content/spatialindex-src-1.8.5')\n",
        "!mount -o remount,exec /content\n",
        "!./configure 2>&1 >/dev/null && make 2>&1 >/dev/null && make install && ldconfig\n",
        "!pip install -q rtree\n",
        "\n",
        "!pip install geopandas\n",
        "\n",
        "!pip install osmnx"
      ],
      "execution_count": 0,
      "outputs": []
    },
    {
      "cell_type": "markdown",
      "metadata": {
        "id": "1UhQP3ijYIXw",
        "colab_type": "text"
      },
      "source": [
        "###Getting your tools"
      ]
    },
    {
      "cell_type": "code",
      "metadata": {
        "id": "tfd-FXJxrD7m",
        "colab_type": "code",
        "colab": {}
      },
      "source": [
        "##codecell_StreetGridOrientations_ImportUrLibraries\n",
        "\n",
        "# Now get the tools we need,as usual\n",
        "\n",
        "from rtree import index\n",
        "from rtree.index import Rtree\n",
        "import pandas as pd\n",
        "import matplotlib.pyplot as plt\n",
        "import numpy as np\n",
        "# note that osmnx is the special tool here - it contains data on street networks and tools for analysing that data\n",
        "import osmnx as ox\n",
        "ox.config(log_console=True, use_cache=True)\n",
        "weight_by_length = False"
      ],
      "execution_count": 0,
      "outputs": []
    },
    {
      "cell_type": "markdown",
      "metadata": {
        "id": "g8y-sRyOYTxG",
        "colab_type": "text"
      },
      "source": [
        "### Learning a new language – decomposing the code\n",
        "in #codecell_StreetGridOrientations_ImportUrLibraries:\n",
        "\n",
        "<font color='orangered'> ~ déjà vu ~</font> All libraries you have worked with so far are detailed in the Webmaps and Distributions notebook's lexicode.  \n",
        "\n",
        "<font color='magenta'> ~ new ~</font> This week, you will still be working with some of these libraries, we are highligting two packages that deserve further attention:\n",
        "* **rtree** is a spatial index library that allows you to import spatial analysis by number (a bit like ordering food by number!). Details can be viewed [here](http://toblerity.org/rtree/), this week we'll focus on **xxx**;\n",
        "* **osmnx** is a valuable Python package, and it is open source. We should therefore  cite Geoff Boeing's work and [paper](https://geoffboeing.com/publications/osmnx-complex-street-networks/) *'OSMnx: New Methods for Acquiring, Constructing, Analyzing, and Visualizing Complex Street Networks'*. The package allows you to download administrative boundary shapes and street networks (=geometries) from OpenStreetMap from which you can construct, project, visualise, and analyse complex street networks. Because OSMnx is built on top of NetworkX, matplotlib, and geopandas - that you have already used - the network analysis and spatial queries generation with R-tree is rich and fast. Further OsMnx documentation can be found [here](https://osmnx.readthedocs.io/en/stable/)."
      ]
    },
    {
      "cell_type": "markdown",
      "metadata": {
        "id": "i8HqT7WtsiL3",
        "colab_type": "text"
      },
      "source": [
        "## **Assessing street grid orientations** ##\n",
        "\n",
        "The origin and spread of cities can be studied as a function of their distribution, position, site, purpose and anatomy (Stanislawski D., 1946, [ref]( www.jstor.org/stable/211076)). In this practical lab, we will compare modern street grid orientations.\n",
        ">>\n",
        "<img src=\"https://external-content.duckduckgo.com/iu/?u=http%3A%2F%2Fgeoffboeing.com%2Fwp-content%2Fuploads%2F2017%2F04%2Fsquare-mile-street-networks-1024x822.jpg&f=1&nofb=1\" width=\"400\"/> </div> \n",
        ">\n",
        "*Geoff Boeing - Urban Form Analysis with OpenStreetMap Data*\n",
        ">>\n",
        "We start by choosing two cities. I've chosen Rome and Milan. If you've been to these cities, recall how the streets are organized. Are they laid out in neat parallel lines? Are there dominant directions in which the streets run? \n"
      ]
    },
    {
      "cell_type": "code",
      "metadata": {
        "id": "lnt9-Y9G5C5l",
        "colab_type": "code",
        "colab": {}
      },
      "source": [
        "##codecell_StreetGridOrientations_listing\n",
        "\n",
        "# Here we are making a list using {} of all the places we want to study. We give a short name - or label - to each place name. \n",
        "# We use the format of 'label' : 'query' where the query is the full name of the place as written in our osmnx data source\n",
        "\n",
        "places = {'Rome'       : 'Rome,Italy',\n",
        "          'Milan'        : 'Milan,Italy'\n",
        "          }"
      ],
      "execution_count": 0,
      "outputs": []
    },
    {
      "cell_type": "markdown",
      "metadata": {
        "id": "QcvADzGZlpc9",
        "colab_type": "text"
      },
      "source": [
        " **Listing** Now, we can do a basic check of the data contained in our list of places. \n",
        "\n"
      ]
    },
    {
      "cell_type": "code",
      "metadata": {
        "id": "Ajkrnocd52GD",
        "colab_type": "code",
        "colab": {}
      },
      "source": [
        "##codecell_StreetGridOrientations_geodataframe\n",
        "\n",
        "# create a geodataframe 'gdf' that lists the information from each of the places we've added to our list above\n",
        "gdf = ox.gdf_from_places(places.values())\n",
        "#type the name of the geodataframe to print it out\n",
        "gdf"
      ],
      "execution_count": 0,
      "outputs": []
    },
    {
      "cell_type": "markdown",
      "metadata": {
        "id": "uGWDX3iKkKG6",
        "colab_type": "text"
      },
      "source": [
        "**Geodataframe** To analyse urban street orientations for one city, start by getting a polygon that describes the shape of a city. In this case, we're getting the data for Rome. We need to know the overall shape and spatial limits of the city to run this analysis."
      ]
    },
    {
      "cell_type": "code",
      "metadata": {
        "id": "OgFeAWNx4j_w",
        "colab_type": "code",
        "colab": {}
      },
      "source": [
        "##codecell_StreetGridOrientations_shapeofgeodataframe\n",
        "\n",
        "#Get the data for Rome\n",
        "city = ox.gdf_from_place('Rome, Italy')\n",
        "#Plot the shape data on the map\n",
        "ox.plot_shape(ox.project_gdf(city))"
      ],
      "execution_count": 0,
      "outputs": []
    },
    {
      "cell_type": "markdown",
      "metadata": {
        "id": "Ce8qKu7UqFbn",
        "colab_type": "text"
      },
      "source": [
        "#### **Learning a new language – decomposing the code**\n",
        "As we are working with place and space, in *#codecell_StreetGridOrientations_geodataframe*, you have been creating a GeoDataFrame (using pandas) which is simply a dataFrame of Rome and Milan streets that has a column with geometry. The dataframe called under <font color='magenta'> ox gdf = ox.gdf_from_place()</font> provides you with their geographical extents are provided under *'bbox_north, bbox_south, bbox_east and bbox_west columns'*. A column *'geometry'* containing their geometries is populated. It describes them as polygons and multipolygons (& also contains their latitude and longitude in brackets). \n",
        "In *#codecell_StreetGridOrientations_shapeofgeodataframe* you have generated a plot of Rome containing multipolygon features which is often the case when places are split by landscape (e.g.rivers,etc), or different geo-political zones within the same city as it the case for Rome with the Vatican. \n",
        ">\n",
        " **why does it matter?**\n",
        "Topology characterisation is important in geographical information systems (GIS) for:\n",
        "* spatial functions (e.g. network routing via linear networks)\n",
        "* better data quality and integrity control \n",
        "* creating topological relationships between features.\n",
        "A coordinate-based data model that represents geographic features as points, lines and polygons (see image below) is called a vector model in GIS.\n",
        ">\n",
        ">\n",
        "<img src=\"https://github.com/Francoz-Charlotte/Spatial_teaching_CFediting/blob/master/GISfeatures.png?raw=1\" width=\"400\"/> </div>\n",
        ">\n"
      ]
    },
    {
      "cell_type": "markdown",
      "metadata": {
        "id": "FYQe0xjRma0h",
        "colab_type": "text"
      },
      "source": [
        " **In which direction these features are running?**\n",
        "\n",
        " So we have x and y coordinates for our features, however the axes on which these features run is so far undefined. So, we need to consider how to check the **orientation** of a line (vector). Imagine a straight vertical line. Does it run up (toward 0 on a circle) or down (toward 180 on a circle)? \n",
        " \n",
        " Of course, really it does both! To assess orientations, we rearrange the data between the streets which are running up and running down. We can therefore define that any street recorded as running down (values between 90 and 270 on a circle) will be reversed, and, so that they are analysed as if they run up. \n",
        " \n",
        "\n"
      ]
    },
    {
      "cell_type": "code",
      "metadata": {
        "id": "IwWtdHfY57yB",
        "colab_type": "code",
        "colab": {}
      },
      "source": [
        "##codecell_StreetGridOrientations_RearrangeAxes\n",
        "\n",
        "# reverse all downward running streets so they act as if they run up...\n",
        "def reverse_bearing(x):\n",
        "    return x + 180 if x < 180 else x - 180"
      ],
      "execution_count": 0,
      "outputs": []
    },
    {
      "cell_type": "markdown",
      "metadata": {
        "id": "wHNA_NTZezoN",
        "colab_type": "text"
      },
      "source": [
        "#### **Learning a new language – decomposing the code**\n",
        "\n",
        "The ##codecell_StreetGridOrientations_RearrangeAxes is doing just that:\n",
        "![orientations](https://github.com/Francoz-Charlotte/Spatial_teaching_CFediting/blob/master/Orientations_explain2b.png?raw=true)\n",
        "\n",
        "<font color='orangered'> ~ déjà vu ~</font> Last week, in #codecell_Webmaps&Distributions_AllNumbers, you have seen that you could define a function using *def* argument, and in your first lab, #codecell_makeabasicmap_ManipulatingyourData_UsingSymbology,  you have used *if  elif  else* function.  Here, you are using both by calling (*def*) this new function (*reverse_bearing*) which is asking to add 180 degrees to all streets which are less than 180 and leave all streets which are not < 180 (*else* argument) as 180. \n",
        "\n",
        "**why does it matter?**\n",
        "in order to quantify these street systems directions for both cities, we need to define/assess their **bearings** (= a measure of direction or angle of movement). Some rules: \n",
        "* bearings are always measured from the North;\n",
        "* in a clockwise direction;\n",
        "* with three digits. \n",
        "\n",
        "So, to know the bearing (direction) of a line (i.e.street for us) going from A to B, for instance, we need , first, to have the start of the line, point A, relative to North and the end of the line, point B, relative to the north as depicted below:\n",
        "\n",
        "<img src=\"https://github.com/Francoz-Charlotte/Spatial_teaching_CFediting/blob/master/Bearings.png?raw=1\" width=\"200\"/> </div>\n",
        "\n",
        "Then, we need to consider on what direction, from the north, we need to be in order to walk/cycle/drive/fly along this line AB:\n",
        "\n",
        "<img src=\"https://github.com/Francoz-Charlotte/Spatial_teaching_CFediting/blob/master/Bearings_2.png?raw=1\" width=\"200\"/> </div>\n",
        "\n",
        "So for the street AB, the bearing B from point A can be measured as follows:\n",
        "\n",
        "<img src=\"https://github.com/Francoz-Charlotte/Spatial_teaching_CFediting/blob/master/Bearings__3.png?raw=1\" width=\"200\"/> </div>\n",
        "\n",
        "And similarly, along the same street AB, you can walk/cycle/drive/fly from point B to A and its bearing can be calculated as follows:\n",
        "\n",
        "<img src=\"https://github.com/Francoz-Charlotte/Spatial_teaching_CFediting/blob/master/Bearings_4.png?raw=1\" width=\"200\"/> </div>"
      ]
    },
    {
      "cell_type": "markdown",
      "metadata": {
        "id": "xYZ0uUYxnOR3",
        "colab_type": "text"
      },
      "source": [
        "Next we will get the **bearing**, or main orientation, of each line representing a street in Rome.\n",
        "\n",
        "\n"
      ]
    },
    {
      "cell_type": "code",
      "metadata": {
        "id": "kThlVL18588P",
        "colab_type": "code",
        "colab": {}
      },
      "source": [
        "##codecell_StreetGridOrientations_GetBearings\n",
        "\n",
        "#define an empty set to hold information on all the bearings of the streets\n",
        "bearings = {}\n",
        "#for each city\n",
        "for place in sorted(places.keys()):\n",
        "    \n",
        "    # get the graph of all the streets\n",
        "    query = places[place]\n",
        "    G = ox.graph_from_place(query, network_type='drive')\n",
        "    \n",
        "    # calculate edge bearings of the lines representing streets\n",
        "    Gu = ox.add_edge_bearings(ox.get_undirected(G))\n",
        "    \n",
        "    if weight_by_length:\n",
        "        # weight bearings by length (meters)\n",
        "        city_bearings = []\n",
        "        for u, v, k, d in Gu.edges(keys=True, data=True):\n",
        "            city_bearings.extend([d['bearing']] * int(d['length']))\n",
        "        b = pd.Series(city_bearings)\n",
        "        bearings[place] = pd.concat([b, b.map(reverse_bearing)]).reset_index(drop='True')\n",
        "    else:\n",
        "        # don't weight bearings, just take one value per street segment\n",
        "        b = pd.Series([d['bearing'] for u, v, k, d in Gu.edges(keys=True, data=True)])\n",
        "        bearings[place] = pd.concat([b, b.map(reverse_bearing)]).reset_index(drop='True')"
      ],
      "execution_count": 0,
      "outputs": []
    },
    {
      "cell_type": "markdown",
      "metadata": {
        "id": "E_g_RN8gSLv8",
        "colab_type": "text"
      },
      "source": [
        "#### **Learning a new language – decomposing the code**\n",
        "\n",
        "The ##codecell_StreetGridOrientations_GetBearings contains a loop function  to get the street networks and their edge bearings. There are further explanations about the loop *for*  [here](https://realpython.com/python-for-loop/) if you need further explanations as it an important coding concept to untangle!\n",
        "\n",
        "The code is decomposed (partially as you must have the hang of it by now) for you to adapt it if you require to adapt it for the city, town or village of your choice: \n",
        "\n",
        "<img src=\"https://github.com/Francoz-Charlotte/Spatial_teaching_CFediting/blob/master/LAb3_orientations_GetBearings.png?raw=1\" width=\"1600\"/> </div>\n",
        "\n",
        "<img src=\"https://github.com/Francoz-Charlotte/Spatial_teaching_CFediting/blob/master/LAb3_orientations_GetBearings2.png?raw=1\" width=\"800\"/> </div>\n",
        "\n",
        "**Reminder** in a network, street network for us, you have principally 2 components, a **vertices** and **edges**. The vertices are the set of objects=nodes that are connected together and edges are all the connections between the nodes which are linking these vertices together. Here we simply want to quantidying the directions of these edges.\n"
      ]
    },
    {
      "cell_type": "markdown",
      "metadata": {
        "id": "I2eITIr7ptk-",
        "colab_type": "text"
      },
      "source": [
        "**To visualise these bearings** \n",
        ">\n",
        "Step 1 - We count the number of streets with each orientation. \n",
        "*Note* that details and explanations about the code is explained within the codecell itself this time!"
      ]
    },
    {
      "cell_type": "code",
      "metadata": {
        "id": "lfT1eCLW6E3y",
        "colab_type": "code",
        "colab": {}
      },
      "source": [
        "##codecell_StreetGridOrientations_SetBearings4visualisation\n",
        "\n",
        "# here (and above and just below) you are still defining a function \n",
        "# part of your loop = little script that runs repeatedly on all your data\n",
        "# here we go back to the *def* function, used in  #codecell_Webmaps&Distributions_AllNumbers \n",
        "\n",
        "def count_and_merge(n, bearings):\n",
        "    # make twice as many bins as desired, then merge them in pairs\n",
        "    # prevents bin-edge effects around common values like 0° and 90°\n",
        "    n = n * 2\n",
        "    bins = np.arange(n + 1) * 360 / n\n",
        "    count, _ = np.histogram(bearings, bins=bins)\n",
        "\n",
        "    ## what's new here np.histogram function allows you to get a sense of the relative frequency (how many time an event is occuring) of the street's spatial orientations\n",
        "    ##np.arrange = return evenly spaced values within a given interval\n",
        "    \n",
        "    # move the last bin to the front, so eg 0.01° and 359.99° will be binned together\n",
        "    count = np.roll(count, 1)\n",
        "    return count[::2] + count[1::2]"
      ],
      "execution_count": 0,
      "outputs": []
    },
    {
      "cell_type": "markdown",
      "metadata": {
        "id": "2Wpu19V-oCbg",
        "colab_type": "text"
      },
      "source": [
        "Step 2 - we will draw a diagram that shows the number of streets running along each orientation. We'll be using a type of diagram called a **'polar plot'** which is a an histogram (showing the frequency) in polar coordinates using the streets' set of bearings. Read about them [here](https://datavizproject.com/data-type/polar-area-chart/). \n"
      ]
    },
    {
      "cell_type": "code",
      "metadata": {
        "id": "J3q7N-qU6QyF",
        "colab_type": "code",
        "colab": {}
      },
      "source": [
        "##codecell_StreetGridOrientations_CreatingPolarPlot\n",
        "\n",
        "# create a function to draw a polar histogram for a set of edge bearings\n",
        "# here we create axes of the graph\n",
        "\n",
        "def polar_plot(ax, bearings, n=36, title=''):\n",
        "    \n",
        "    #define bins to divide up the data\n",
        "    #you want to make sure that your data is arranged \n",
        "    #following polar coordinates within a circle/chart \n",
        "    bins = np.arange(n + 1) * 360 / n\n",
        "    count = count_and_merge(n, bearings)\n",
        "    _, division = np.histogram(bearings, bins=bins)\n",
        "    frequency = count / count.sum()\n",
        "    division = division[0:-1]\n",
        "    width =  2 * np.pi / n\n",
        "\n",
        "    #getting all angles starting from the place\n",
        "    # set north to 0 and work clockwise from there\n",
        "    #ax.set_theta_location is scaling the output so that maximum radius rests on the edge of the axes circle\n",
        "    #and in a polar graph projection, the input dimensions are theta\n",
        "    ax.set_theta_zero_location('N')\n",
        "    ax.set_theta_direction('clockwise')\n",
        "\n",
        "    #Symbology\n",
        "    # set up colours, labels, and fonts for the diagram\n",
        "    #ax.bar() are all the bars (representing the frequency) positioned at x-axis\n",
        "    x = division * np.pi / 180\n",
        "    bars = ax.bar(x, height=frequency, width=width, align='center', bottom=0, zorder=2,\n",
        "                  color='#003366', edgecolor='k', linewidth=0.5, alpha=0.7)\n",
        "    \n",
        "    #ax.set_ylim()allows you to linits of your plot (bounding boxes, font, axes labels, titles, etc.)\n",
        "    ax.set_ylim(top=frequency.max())\n",
        "    \n",
        "    title_font = {'family':'Arial', 'size':24, 'weight':'bold'}\n",
        "    xtick_font = {'family':'Arial', 'size':10, 'weight':'bold', 'alpha':1.0, 'zorder':3}\n",
        "    ytick_font = {'family':'Arial', 'size': 9, 'weight':'bold', 'alpha':0.2, 'zorder':3}\n",
        "    \n",
        "    ax.set_title(title.upper(), y=1.05, fontdict=title_font)\n",
        "    \n",
        "    ax.set_yticks(np.linspace(0, max(ax.get_ylim()), 5))\n",
        "    yticklabels = ['{:.2f}'.format(y) for y in ax.get_yticks()]\n",
        "    yticklabels[0] = ''\n",
        "    ax.set_yticklabels(labels=yticklabels, fontdict=ytick_font)\n",
        "    \n",
        "    xticklabels = ['N', '', 'E', '', 'S', '', 'W', '']\n",
        "    ax.set_xticklabels(labels=xticklabels, fontdict=xtick_font)\n",
        "    ax.tick_params(axis='x', which='major', pad=-2)"
      ],
      "execution_count": 0,
      "outputs": []
    },
    {
      "cell_type": "code",
      "metadata": {
        "id": "SjsPZRgG6dwi",
        "colab_type": "code",
        "colab": {}
      },
      "source": [
        "##codecell_StreetGridOrientations_VisualisePolarPlot\n",
        "\n",
        "# visualise the figure and axes\n",
        "\n",
        "# we are using *len* argument again (see #codecell_makeabasicmap_BringingUrData2theMap)\n",
        "#plt.subplots() is creating just a figure with one subplot, easiest way to visualise graph before final output\n",
        "n = len(places)\n",
        "ncols = int(np.ceil(np.sqrt(n)))\n",
        "nrows = int(np.ceil(n / ncols))\n",
        "figsize = (ncols * 5, nrows * 5)\n",
        "fig, axes = plt.subplots(nrows, ncols, figsize=figsize, subplot_kw={'projection':'polar'})\n",
        "\n",
        "# plot each city's polar histogram\n",
        "# note here .dropna()allows you to drop/exclude field values NaN\n",
        "# place your cursor over the brown field (i.e. zip or sorted) to find out what they mean\n",
        "for ax, place in zip(axes.flat, sorted(places.keys())):\n",
        "    polar_plot(ax, bearings[place].dropna(), title=place)\n",
        "\n",
        "# add super title and save full image\n",
        "\n",
        "fig.tight_layout()\n",
        "fig.subplots_adjust(hspace=0.35)\n",
        "fig"
      ],
      "execution_count": 0,
      "outputs": []
    },
    {
      "cell_type": "markdown",
      "metadata": {
        "id": "SxQyrgt8pkzC",
        "colab_type": "text"
      },
      "source": [
        "##Orientations and frequency##\n",
        "\n",
        "Are the orientations seen here similar or different? What might you conclude about the development and organization from each city based on these diagrams?\n",
        "\n",
        "which other useful plots/diagram could also be used to quantify of street orientation ?\n",
        "* rose diagrams — data that includes and implicit or explicit directional or temporal component can often be displayed most effectively using a plot that uses Cartesian coordinates rather than polar coordinates (polar). \n",
        "* Bubble plots — bubble plots are essentially scatterplots where the data items have an additional value or weighting (a third dimension) to be displayed. This is achieved by varying the size and/or color of the points. \n",
        "\n",
        "\n"
      ]
    },
    {
      "cell_type": "markdown",
      "metadata": {
        "id": "6x2eM5uJpxWQ",
        "colab_type": "text"
      },
      "source": [
        "Now that you've started thinking about orientation and how we might interpret it, head to the next notebook (linked from the moodle) for a slightly more in depth exercise."
      ]
    },
    {
      "cell_type": "markdown",
      "metadata": {
        "id": "9Oe23Q7tlMna",
        "colab_type": "text"
      },
      "source": [
        ""
      ]
    },
    {
      "cell_type": "markdown",
      "metadata": {
        "id": "0nGkpE2cU9xj",
        "colab_type": "text"
      },
      "source": [
        "#LexiCode\n",
        "To re-use the codes - you will need to first load their respective libraries.  So far, you have used ...:\n",
        "\n",
        "<br>\n",
        "\n",
        "> **libraries** |**plugins** |\n",
        ">--- |--- | \n",
        ">folium | HeatMapWithTime\n",
        ">branca| HeatMap\n",
        ">pandas| MeasureControl\n",
        ">geopandas| PrepareUrBasemaps_CreateLayers from [folium.plugins]\n",
        ">seaborn | \n",
        ">matplotlib.pyplot | \n",
        ">numpy | \n",
        ">rtree | \n",
        ">osmnx |\n",
        ">\n",
        "\n",
        "your lexicode is non-exhaustive, keep expanding, find your own 'best way' to reuse these code/scripts...\n",
        "\n",
        "<br>\n",
        "\n",
        ">Lexicode_MakingaBasicMap | Lexicode_Webmaps&Distributions |Lexicode_StreetGridOrientations\n",
        ">--- | --- | ---|\n",
        ">\t==   () [] | pd.concat() | { } *subselection from list*\n",
        ">.head_csv() | .dtype() | ox.gdf_from_places()\n",
        ">.read_csv() | astype() | ox.plot_shape()\n",
        ">mean()  | fillna()|network_type= ''\n",
        ">folium.Map | def return |ox.add_edge_bearings(ox.get_undirected())\n",
        ">range() | .apply(lambda x:*function*,axis=) |count_and_merge()\n",
        ">len() | pd.merge() |np.arrange()\n",
        ">iloc[]| how= , left_index= ,left_index= |np.histogram()\n",
        ">.value_counts()| gpd.GeoDataFrame()| ax.set_theta_location()\n",
        ">if =:| geometry=gpd.points_from_xy |ax.set_ylim()\n",
        ">elif =: |print() |ax.set_title()\n",
        ">else =:| .isin()|ax.set_yticks()\n",
        ">folium.Marker()| classic.plot()|ax.set_xlabels() & ax.set_yticklabels\n",
        ">folium.Icon()| generateBaseMap()|plt.subplots()\n",
        ">folium.Circle| .groupby(['', ''])|.dropna()\n",
        ">popup= | .reset_index() |polar_plot()\n",
        ">radius= |  max_zoom= |\n",
        ">.values.tolist() |folium.TileLayer()\n",
        "> .add_to()| plugins.DualMap(location= , tiles= , zoom_start= )\n",
        ">  | \n",
        "\n",
        "\n"
      ]
    }
  ]
}