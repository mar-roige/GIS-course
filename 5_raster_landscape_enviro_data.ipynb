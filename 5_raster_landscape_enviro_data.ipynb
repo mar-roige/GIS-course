{
  "nbformat": 4,
  "nbformat_minor": 0,
  "metadata": {
    "colab": {
      "name": "5_raster_landscape_enviro_data.ipynb",
      "provenance": [],
      "collapsed_sections": [],
      "include_colab_link": true
    },
    "kernelspec": {
      "name": "python3",
      "display_name": "Python 3"
    }
  },
  "cells": [
    {
      "cell_type": "markdown",
      "metadata": {
        "id": "view-in-github",
        "colab_type": "text"
      },
      "source": [
        "<a href=\"https://colab.research.google.com/github/mar-roige/GIS-course/blob/master/5_raster_landscape_enviro_data.ipynb\" target=\"_parent\"><img src=\"https://colab.research.google.com/assets/colab-badge.svg\" alt=\"Open In Colab\"/></a>"
      ]
    },
    {
      "cell_type": "markdown",
      "metadata": {
        "id": "L3bffymKpXqt",
        "colab_type": "text"
      },
      "source": [
        "# **Land use and archaeological visibility**\n",
        "\n",
        " In this exercise, we'll be relating learning to access information about the environment or landscape in a raster format. We'll then be relating the locations of visible sites to various environmental factors. <br> So far in this course you've been working mostly with vector data (points, lines, polygons) but now you're going to work with rasters as well. Environmental data is often held in a raster format because the data is continuous (see *Raster versus Features* below for more details). Elevation is everywhere, right? So if you have a big image file (a raster) you can have a value for elevation in pretty much every pixel of that file.  \n",
        "\n",
        "Therefore this week practical lab aims to use rasters to explore (and investigate of course):\n",
        "* **environmental properties of landscapes** using image rasters\n",
        "* **physical properties of landscapes** using attribute rasters\n",
        "\n"
      ]
    },
    {
      "cell_type": "markdown",
      "metadata": {
        "id": "9aWKNSMdnE6A",
        "colab_type": "text"
      },
      "source": [
        "####**Rasters versus Features**####\n",
        "\n",
        "In #*codecell_StreetGridOrientations_geodataframe*, we have started to talk about vector feature data and why topology characterisation was important in geographical information systems. Vectors are not the only way to represent the world and what's in it, raster is another format used in GIS... because:\n",
        "*\tDifferent representation is more suitable for different types of data\n",
        "*\tDifferent representation is more suitable for different types of data processing and analysis \n",
        "\n",
        "> ||\n",
        ">--- |--- |\n",
        ">|\n",
        "> <img src=\"https://github.com/Francoz-Charlotte/Spatial_teaching_CFediting/blob/master/Lab5_workingwithrasters_points.png?raw=1\" width=\"400\"/> </div> |\n",
        "><img src=\"https://github.com/Francoz-Charlotte/Spatial_teaching_CFediting/blob/master/Lab5_workingwithrasters_lines.png?raw=1\" width=\"400\"/> </div> |\n",
        "><img src=\"https://github.com/Francoz-Charlotte/Spatial_teaching_CFediting/blob/master/Lab5_workingwithrasters_polygons.png?raw=1\" width=\"400\"/> </div>|\n",
        "\n",
        "There are different **types** of raster data Image rasters and attributes rasters as illustrated below:\n",
        "> ||\n",
        ">--- |--- |\n",
        ">Image raster (geology.com)|Attributes rasters (met.office)|\n",
        "><img src=\"https://geology.com/world/satellite-image-of-united-kingdom.jpg\" width=\"250\"/> </div> |<img src=\"https://www.metoffice.gov.uk/binaries/content/gallery/metofficegovuk/images/weather/learn-about/weather/rainfall-average-uk.jpg/rainfall-average-uk.jpg/metofficegovuk%3Axsmall\" width=\"600\"/> </div> |\n",
        "\n",
        "Cells have a **pixel** value (=picture element and relates to resolution & to their position on the surface) and a **grid** cell value (size in units) and each cell has **attributes** stored in the array. For instance, this attribute can relate to spectral reflectance (ranging from 0-255), colour (RGB is 3 attributes) or numeric values (which can be associated with a full description through a join with a Look-Up_Code -LU_code- such as a reference tables for Land Use map).<br><br>\n",
        "*Example of a Raster Array composition* <br> <img src=\"https://github.com/Francoz-Charlotte/Spatial_teaching_CFediting/blob/master/Lab5_comporaster.png?raw=1\" width=\"600\"/> </div>\n",
        "\n",
        "____\n",
        "\n"
      ]
    },
    {
      "cell_type": "markdown",
      "metadata": {
        "id": "jB1G5KhNmfbB",
        "colab_type": "text"
      },
      "source": [
        "### Let's get started...####  \n",
        "<font color='orangered'> ~ déjà vu ~</font> \n",
        "* Make your own copy of this notebook;\n",
        "* Get your tools;\n",
        "* Remember to hit play or type 'Ctrl'+'Enter' to run the code in any cell (grey shaded cells in the page) to make things happen!"
      ]
    },
    {
      "cell_type": "code",
      "metadata": {
        "id": "LIdl_WyK_FSH",
        "colab_type": "code",
        "colab": {}
      },
      "source": [
        "##codecell_RasterLandscape_ImportUrLibraries\n",
        "\n",
        "!pip install rasterio\n",
        "!pip install elevation\n",
        "!pip install richdem"
      ],
      "execution_count": 0,
      "outputs": []
    },
    {
      "cell_type": "markdown",
      "metadata": {
        "id": "UIm-91A4vZg4",
        "colab_type": "text"
      },
      "source": [
        "\n",
        "**Learning a new language – decomposing the code** \n",
        "  <br>\n",
        "In #codecell_RasterLandscape_ImportUrLibraries, <font color='magenta'> !pip </font> is a package management system to install manage software packages. we have already used this last week to install *fiona* and *geopandas* and *pysal*.\n",
        "We are using reference data for this practical which include \n",
        "* *rasterio* reads and writes raster formats to manipulate them and creates new ones ([ref](https://0rasterio.readthedocs.io/en/stable/quickstart.html)); \n",
        "* *richdem* are sets of digital elevation model  or digital representaion of elevation heights in a three-dimensional space/landscape ([ref](https://richdem.readthedocs.io/en/latest/)); \n",
        "* *elevation* provides the height data ([ref](https://pypi.org/project/elevation/) & [elevation intensive tutorials](https://www.earthdatascience.org/tutorials/python/elevation/)).\n",
        "\n"
      ]
    },
    {
      "cell_type": "code",
      "metadata": {
        "id": "ToBCOWiGArka",
        "colab_type": "code",
        "colab": {}
      },
      "source": [
        "##codecell_RasterLandscape_ImportUrLibraries\n",
        "\n",
        "import rasterio     \n",
        "# import the main rasterio function\n",
        "#read, read-write, and write access to raster data files\n",
        "\n",
        "import matplotlib   \n",
        "# We have use this library lab4SpatialPatterns\n",
        "# matplotlib is the primary python plotting and viz library\n",
        "\n",
        "%matplotlib inline  \n",
        "# this bit of magic allows matplotlib to plot inline in a jupyter notebook\n",
        "\n",
        "\n",
        "# We can check which version we're running by printing the \"__version__\" variable\n",
        "print(\"rasterio's version is: \" + rasterio.__version__)\n",
        "print(rasterio)"
      ],
      "execution_count": 0,
      "outputs": []
    },
    {
      "cell_type": "markdown",
      "metadata": {
        "id": "F7CtijN0poYo",
        "colab_type": "text"
      },
      "source": [
        "##**Raster dataset to inform on the landscape environmental properties**##\n",
        "\n",
        "   \n",
        "    \n",
        "\n"
      ]
    },
    {
      "cell_type": "markdown",
      "metadata": {
        "id": "4O9TVip34IcF",
        "colab_type": "text"
      },
      "source": [
        "###**Raster image**###\n",
        "Start by reading in a raster dataset in the form of an image. "
      ]
    },
    {
      "cell_type": "markdown",
      "metadata": {
        "id": "yBptREpClWjn",
        "colab_type": "text"
      },
      "source": [
        "####**Let's open a raster image**####"
      ]
    },
    {
      "cell_type": "code",
      "metadata": {
        "id": "0Y7Sr4pTBd3N",
        "colab_type": "code",
        "colab": {}
      },
      "source": [
        "##codecell_RasterLandscape_OpenImage\n",
        "\n",
        "# filepath to our image\n",
        "img_fp = 'http://ropitz.github.io/digitalantiquity/data/LE70220492002106EDC00_stack.gtif'\n",
        "\n",
        "# Open a geospatial dataset\n",
        "# open() handles your file\n",
        "# this function allows you to open a file and return it as a file object\n",
        "dataset = rasterio.open(img_fp)\n",
        "print(dataset)"
      ],
      "execution_count": 0,
      "outputs": []
    },
    {
      "cell_type": "markdown",
      "metadata": {
        "id": "UFmF6nmnEebY",
        "colab_type": "text"
      },
      "source": [
        "####**Which kind of Raster it is?**####\n",
        "Let's learn some basic things about the image data."
      ]
    },
    {
      "cell_type": "code",
      "metadata": {
        "id": "9u2F3TZJD7mj",
        "colab_type": "code",
        "colab": {}
      },
      "source": [
        "##codecell_RasterLandscape_ImageCharacteristics\n",
        "\n",
        "# what is the name of this image\n",
        "img_name = dataset.name\n",
        "print('Image filename: {n}\\n'.format(n=img_name))\n",
        "\n",
        "# How many bands does this image have?\n",
        "num_bands = dataset.count\n",
        "print('Number of bands in image: {n}\\n'.format(n=num_bands))\n",
        "\n",
        "# How many rows and columns?\n",
        "rows, cols = dataset.shape\n",
        "print('Image size is: {r} rows x {c} columns\\n'.format(r=rows, c=cols))\n",
        "\n",
        "# Does the raster have a description or metadata?\n",
        "desc = dataset.descriptions\n",
        "print('Raster description: {desc}\\n'.format(desc=desc))\n",
        "\n",
        "# What driver was used to open the raster?\n",
        "driver = dataset.driver\n",
        "print('Raster driver: {d}\\n'.format(d=driver))\n",
        "\n",
        "# What is the raster's projection?\n",
        "proj = dataset.crs\n",
        "print('Image projection:')\n",
        "print(proj, '\\n')\n",
        "\n",
        "# What is the raster's \"geo-transform\"\n",
        "gt = dataset.transform\n",
        "\n",
        "print('Image geo-transform:\\n{gt}\\n'.format(gt=gt))\n",
        "\n",
        "# Does the raster have a metadata?\n",
        "metadata = dataset.meta\n",
        "print('All raster metadata:')\n",
        "print(metadata)\n",
        "print('\\n')"
      ],
      "execution_count": 0,
      "outputs": []
    },
    {
      "cell_type": "markdown",
      "metadata": {
        "id": "B4OsIqTXDOk3",
        "colab_type": "text"
      },
      "source": [
        "#####**Learning a new language – decomposing the code**#####\n",
        "\n",
        "In *#codecell_RasterLandscape_OpenImage*, <font color='magenta'> rasterio </font> allows you to open the raster via the function <font color='redpu'> .open() </font>  and returns it as Dataset object.<br>\n",
        "\n",
        "In *#codecell_RasterLandscape_Characteristics*, you wanted to know a bit more about this raster, in particular its  **characteristics** & **metadata** by calling information on:\n",
        "*  the image name, the number of bands and the image size  which is a description of the array and its number of rows and columns: <br> \n",
        "\n",
        "<img src=\"https://github.com/Francoz-Charlotte/Spatial_teaching_CFediting/blob/master/rastershelponcoding_.png?raw=1\" width=\"1200\"/>\n",
        "</div>\n",
        "\n",
        "* the description of raster's file format. here, this is a description of the 8 bands (*see above from the command dataset.count*):\n",
        "<img src=\"https://github.com/Francoz-Charlotte/Spatial_teaching_CFediting/blob/master/rastershelponcoding__2.png?raw=1\" width=\"1200\"/>\n",
        "</div>\n",
        "\n",
        "\n",
        "* the image's projection\n",
        "<img src=\"https://github.com/Francoz-Charlotte/Spatial_teaching_CFediting/blob/master/rastershelponcoding_3.png?raw=1\" width=\"1200\"/>\n",
        "</div>\n",
        "\n",
        "EPSG:32615 - is world projection used principally for the north Hemisphere - 96oW to 90oW (red box in image below) & in large and medium scale topographic mapping and engineering survey. This [webpage](https://spatialreference.org/ref/epsg/wgs-84-utm-zone-15n/)  provides you with other possible formatting/coding option to use this projection in other software.<br> <img src=\"https://github.com/Francoz-Charlotte/Spatial_teaching_CFediting/blob/master/rastershelponcoding3b.png?raw=1\" width=\"600\"/>\n",
        "</div> <br>\n",
        "\n",
        "\n",
        "* by calling <font color='redpu'> .dataset.transform</font>,  you are asking how the orignal image pixels have been transformed to the projected coordinates \n",
        "<img src=\"https://github.com/Francoz-Charlotte/Spatial_teaching_CFediting/blob/master/rastershelponcoding__4.png?raw=1\" width=\"1200\"/>\n",
        "</div>\n",
        "\n",
        "<br><br> *what does this mean?* \n",
        "<img src=\"https://github.com/Francoz-Charlotte/Spatial_teaching_CFediting/blob/master/rastershelponcoding_6.png?raw=1\" width=\"600\"/></div> <br>\n",
        "You can see in the answer from <font color='redpu'> .dataset.transform </font>  that is very much like what you've experienced in lab3_StreetGrid_Orientation with the north-up transformation when we needed to rearrange the street axes to run northward (*##codecell_StreetGridOrientations_RearrangeAxes*) and what you have seen in lab2 especially in *#codecell__Webmaps& Distributions_CheckingZeData*).  In our case, the results are showing an affine transformation:\n",
        "\n",
        "<img src=\"https://github.com/Francoz-Charlotte/Spatial_teaching_CFediting/blob/master/Lab5_workingwithrasters_transform.png?raw=1\" width=\"600\"/>\n",
        "</div><img src=\"https://kartoweb.itc.nl/geometrics/Bitmaps/coordtrans%20control%20points6.gif\" width=\"600\"/>\n",
        "\n",
        "...but, there are other way to transform an image, this could be by using conformal or polynomial transformation for a 2D projection(x&y axes) and you see below what 2D transformation can do to your image (if you want a more detailed explanation on how and why coordinates are transformed [here](https://kartoweb.itc.nl/geometrics/Coordinate%20transformations/coordtrans.html)):\n",
        "\n",
        "</div> </div><img src=\"http://resources.esri.com/help/9.3/arcgisengine/java/gp_toolref/coverage_tools/transform_arc3.gif\" width=\"600\"/> </div><br>\n",
        "\n",
        "  \n",
        "\n",
        "* Finally, we are calling for the raster metadata, which is the important part of your data that you will need to provide:\n",
        "\n",
        "<img src=\"https://github.com/Francoz-Charlotte/Spatial_teaching_CFediting/blob/master/rastershelponcoding_5.png?raw=1\" width=\"1200\"/>\n",
        "</div>\n",
        "\n",
        "---\n"
      ]
    },
    {
      "cell_type": "markdown",
      "metadata": {
        "id": "kA5qzNQMEp1N",
        "colab_type": "text"
      },
      "source": [
        "\n",
        "####**Image raster bands: let's visualise**####\n",
        "That's is the fun part...\n",
        "\n"
      ]
    },
    {
      "cell_type": "markdown",
      "metadata": {
        "id": "Sqct6oc0ZA_v",
        "colab_type": "text"
      },
      "source": [
        "#####***But what are image bands?***#####\n",
        "Raster dataset contains one or more layers called bands. For instance, a colour image can have three bands using RBG, with 1 band Red,1 band Green, and 1 band Blue:<br>\n",
        "<br><img src=\"http://desktop.arcgis.com/en/arcmap/10.3/manage-data/raster-and-images/GUID-4B68F91A-9C87-4012-A92F-7CD18BD1F9EE-web.png\" width=\"600\"/> </div> \n",
        "<br>  An image can also be a multispectral image with many bands such as remote sensing data which is a recombination of the electromagnetic spectrum to create a multiband raster data. This is where every cell location has more than one value associated with it. You  might have heard of Near Infrared (NIR), well these raster images have 8 bands and they come with each band as a separate file (bands 2,3,4 and 8 which are Blue, green, red, and NIR respectively) (see more [here](https://www.usgs.gov/faqs/what-are-band-designations-landsat-satellites?qt-news_science_products=0#qt-news_science_products)). Infrared (and ultraviolet) are that bit of the spectrum we cannot see with our own eyes.  <br><br>\n",
        "<img src=\"http://desktop.arcgis.com/en/arcmap/10.3/manage-data/raster-and-images/GUID-4F5A176A-D52A-4F07-9C2E-9922C1B6097D-web.gif\" width=\"600\"/> </div> <img src=\"http://dew.globalsystemsscience.org/_/rsrc/1472777338633/key-messages/near-infrared-and-the-electromagnetic-spectrum/irdiagram.png\" width=\"600\"/> </div> <br>\n",
        "*You can learn more how band combinations works in [this](http://biodiversityinformatics.amnh.org/interactives/bandcombination.php) interactive platform using 3 types of remotely sensed images (MODIS, ASTER and Landsat)*.<br><br>\n",
        "And, an image can also have one band can be a digital elevation model (DEM) where the cell holds elevation values.\n"
      ]
    },
    {
      "cell_type": "markdown",
      "metadata": {
        "id": "EqqU-JX7Jcrp",
        "colab_type": "text"
      },
      "source": [
        "The rasterio dataset object we've created contains a lot of useful information but it is not directly used to read in the raster image. Instead, we will need to access the raster's bands using the (<font color='magenta'> read() </font>) method:"
      ]
    },
    {
      "cell_type": "code",
      "metadata": {
        "id": "UdPP46lfEqbg",
        "colab_type": "code",
        "colab": {}
      },
      "source": [
        "##codecell_RasterLandscape_CheckShapOfBands\n",
        "\n",
        "# Let's open fourth band in our image\n",
        "# read() function that allow us to specify a subset of the raster band in the brackets ()\n",
        "nir = dataset.read(4)\n",
        "\n",
        "# Using function .shape we want to check out the dimensions of the image\n",
        "\n",
        "nir.shape \n",
        "# #same as in ##codecell_RasterLandscape_ImageMetadata \n",
        "# by using .read() for all bands, the answer should have been (8, 250, 250)\n",
        "# .shape answer provides you with # bands, rows, cols\n",
        "# but images can be very very large files, so it is better to do this bit by bit"
      ],
      "execution_count": 0,
      "outputs": []
    },
    {
      "cell_type": "code",
      "metadata": {
        "id": "sKrcNQ-cFCqn",
        "colab_type": "code",
        "colab": {}
      },
      "source": [
        "##codecell_RasterLandscape_ImportUrLibraries\n",
        "\n",
        "#we get numpy again\n",
        "# because raster tends to be large(heavy) files, \n",
        "#numpy allows to represent the data very efficiently without using a lot of computer memory \n",
        "import numpy as np"
      ],
      "execution_count": 0,
      "outputs": []
    },
    {
      "cell_type": "code",
      "metadata": {
        "id": "G3huVdTmFFGX",
        "colab_type": "code",
        "colab": {}
      },
      "source": [
        "##codecell_RasterLandscape_BandsDataType\n",
        "\n",
        "# What are the band's datatypes?\n",
        "# remember we have used the dtype function in lab2Webmaps&Distribution\n",
        "datatype = dataset.dtypes\n",
        "print('Band datatypes: {dt}'.format(dt=datatype))\n",
        "\n",
        "# How about some band statistics?\n",
        "band_mean = np.mean(nir)\n",
        "band_min = np.amin(nir)\n",
        "band_max = np.amax(nir)\n",
        "band_stddev = np.std(nir)\n",
        "print('Band range: {minimum} - {maximum}'.format(maximum=band_max,\n",
        "                                                 minimum=band_min))\n",
        "print('Band mean, stddev: {m}, {s}\\n'.format(m=band_mean, s=band_stddev))"
      ],
      "execution_count": 0,
      "outputs": []
    },
    {
      "cell_type": "markdown",
      "metadata": {
        "id": "l-K8zVywQ8eo",
        "colab_type": "text"
      },
      "source": [
        "#####**Learning a new language – decomposing the code**#####\n",
        "\n",
        "In *#codecell_RasterLandscape_BandsDataType*, we are asking numpy (np) to:\n",
        "* tell us which (<font color='magenta'> datatype </font>) are the bands. the answer is *'int16'* which is an integer of a storage capacity of 16 bit. Each type of integer has a different range of storage capacity:\n",
        "\n",
        "   Type -- Capacity\n",
        "  \n",
        "   Int16 -- (-32,768 to +32,767)\n",
        "\n",
        "   Int32 -- (-2,147,483,648 to +2,147,483,647)\n",
        "\n",
        "   Int64 -- (-9,223,372,036,854,775,808 to +9,223,372,036,854,775,807)\n",
        "\n",
        "* provide us with the mean (<font color='magenta'> np.mean() </font>), minimum (<font color='magenta'> np.amin() </font>), maximum (<font color='magenta'> np.amax() </font>) and its standard deviation (<font color='magenta'> np.std() </font>). So, this is just like asking how the data (band no.4) is spread really:\n",
        "\n",
        "<img src=\"https://github.com/Francoz-Charlotte/Spatial_teaching_CFediting/blob/master/Lab5_workingwithrasters_Standard%20deviation.png?raw=1\" width=\"600\"/>\n",
        "\n",
        "##Remember to add in githubbDistributions graphs##\n",
        "\n",
        "<img src=\"https://github.com/Francoz-Charlotte/Spatial_teaching_CFediting/blob/master/Lab5_workingwithrasters_Distributions.png?raw=1\" width=\"600\"/>\n",
        "\n"
      ]
    },
    {
      "cell_type": "code",
      "metadata": {
        "id": "oOl-BVwVFIna",
        "colab_type": "code",
        "colab": {}
      },
      "source": [
        "##codecell_RasterLandscape_ImageDisplay\n",
        "\n",
        "#read in the image \n",
        "full_img = dataset.read()\n",
        "\n",
        "#we are checking the .shape of the image (do I have all my bands? See ##codecell_RasterLandscape_CheckShapOfBands)\n",
        "full_img.shape \n",
        "\n",
        "# we are adding a wee bit of rasterio library here \n",
        "# import the show function which allows us to display the image\n",
        "from rasterio.plot import show \n",
        "\n",
        "#then print the nir band with the whole image shape\n",
        "#we would like to have a grayscale map (cmap see also ##codecell_SpatialPatterns_PlottingUrData)\n",
        "print(\"Image dimensions: \", full_img.shape)\n",
        "show(nir, transform=dataset.transform, cmap='gray')"
      ],
      "execution_count": 0,
      "outputs": []
    },
    {
      "cell_type": "code",
      "metadata": {
        "id": "_gfI3SxPFV37",
        "colab_type": "code",
        "colab": {}
      },
      "source": [
        "##codecell_RasterLandscape_ImportUrLibraries\n",
        "\n",
        "#more tools\n",
        "import matplotlib   # matplotlib is the primary python plotting and viz library\n",
        "import matplotlib.pyplot as plt\n",
        "\n",
        "# this bit of magic allows matplotlib to plot inline in a jupyter notebook\n",
        "#see also lab4_spatial patterns\n",
        "%matplotlib inline  \n",
        "import folium       # folium is an interactive mapping library\n"
      ],
      "execution_count": 0,
      "outputs": []
    },
    {
      "cell_type": "markdown",
      "metadata": {
        "id": "VOxbNdV_qEAC",
        "colab_type": "text"
      },
      "source": [
        "###**Raster dataset & physical properties of landscapes**### \n",
        "Some raster datasets will only have one band. These behave a bit like a black and white image. Rasters can contain as many bands as you like, and single band images can be combined into multiple band images (see above in *But what are image bands?*). Multiple band images are useful because you can calculate ratios between the different bands to enhance the visibility of certain features in your image."
      ]
    },
    {
      "cell_type": "markdown",
      "metadata": {
        "id": "nVfS6aLEdsRO",
        "colab_type": "text"
      },
      "source": [
        "#####**Let's visualise all bands**#####"
      ]
    },
    {
      "cell_type": "code",
      "metadata": {
        "id": "k9fQgZ3dFiLa",
        "colab_type": "code",
        "colab": {}
      },
      "source": [
        "##codecell_RasterLandscape_RasterCombiningBands\n",
        "\n",
        "# to make a multiple band raster add all the file paths to a list that we call s2_bands\n",
        "s2_bands = [\n",
        "            \"http://ropitz.github.io/digitalantiquity/data/sentinel-2/2018-10-13_Sentinel-2BL1C_B02.tiff\",\n",
        "            \"http://ropitz.github.io/digitalantiquity/data/sentinel-2/2018-10-13_Sentinel-2BL1C_B03.tiff\",\n",
        "            \"http://ropitz.github.io/digitalantiquity/data/sentinel-2/2018-10-13_Sentinel-2BL1C_B04.tiff\",\n",
        "            \"http://ropitz.github.io/digitalantiquity/data/sentinel-2/2018-10-13_Sentinel-2BL1C_B08.tiff\"\n",
        "]\n",
        "\n",
        "# open these files and add all bands together \n",
        "# and you are setting an argument 'for' 'in' 'with' 'as'\n",
        "# in new dataframe name for this list => arrs [] \n",
        "# in which we are appending the files\n",
        "\n",
        "arrs = []\n",
        "for band in s2_bands:\n",
        "    with rasterio.open(band) as f:\n",
        "        arrs.append(f.read(1))\n",
        "\n",
        "# convert the list of tiffs(our multiuple bands appended into 1 list = arrs) to a numpy array\n",
        "# if you forgot what was an array you simply revisit decomposing the code of #codecell_Webmaps&Distributions_AllNumbers \n",
        "sentinel_img = np.array(arrs, dtype=arrs[0].dtype)\n",
        "\n",
        "# let's check the shape of this array\n",
        "sentinel_img.shape"
      ],
      "execution_count": 0,
      "outputs": []
    },
    {
      "cell_type": "code",
      "metadata": {
        "id": "_UYq2o5tIOjD",
        "colab_type": "code",
        "colab": {}
      },
      "source": [
        "##codecell_RasterLandscape_MultibandRasterClipped&View\n",
        "\n",
        "#clip to get a smaller area and show the multiple band image data\n",
        "#this is done by setting the extents of the y and x axis to the desired (here smaller)extent \n",
        "#using our subset special symbol []\n",
        "clipped_img = sentinel_img[:, 0:750:, 0:1500]\n",
        "clipped_img.shape\n",
        "show(clipped_img[[2,1,0], :, :])\n",
        "#we only asked to plot the first 3 bands RGB [3,2,1]"
      ],
      "execution_count": 0,
      "outputs": []
    },
    {
      "cell_type": "markdown",
      "metadata": {
        "id": "hvU31vVSLj8S",
        "colab_type": "text"
      },
      "source": [
        "#####**Learning a new language – decomposing the code**##### \n",
        "\n",
        "In *#codecell_RasterLandscape_MultibandRasterClipped&View*,  you have clip the image by using the subset <font color='magenta'> [ ] </font>, you then  asked rasterio to <font color='magenta'> show() </font> and <font color='magenta'> plot() </font>  only the raster's first three bands so it will be an RGB image."
      ]
    },
    {
      "cell_type": "markdown",
      "metadata": {
        "id": "od_q4SMLqefD",
        "colab_type": "text"
      },
      "source": [
        "\n",
        "#####**Let's check what's going on in each band by plotting an histogram**#####\n",
        "\n",
        "> Indented block\n",
        "\n",
        "\n",
        "\n",
        "You can see the different information held in each band by plotting a histogram of the raster dataset pixel values."
      ]
    },
    {
      "cell_type": "code",
      "metadata": {
        "id": "3WrVkXQfIbIB",
        "colab_type": "code",
        "colab": {}
      },
      "source": [
        "##codecell_RasterLandscape_MultibandRasterHistogram\n",
        "\n",
        "# plot a histogram of the data in each band\n",
        "#revisit your lab SpatialPatterns for further info on how to plot with matplotlib\n",
        "rasterio.plot.show_hist(clipped_img, bins=50, histtype='stepfilled', lw=0.0, stacked=False, alpha=0.3)\n",
        "\n",
        "#here note bin= corresponds to the interval used between pixel values "
      ],
      "execution_count": 0,
      "outputs": []
    },
    {
      "cell_type": "markdown",
      "metadata": {
        "id": "XEFGBBRjIie7",
        "colab_type": "text"
      },
      "source": [
        "Even from simple visualisations, we can see the contrast between the red and the near-infared (NIR) bands. In the histogramm, the peak at 255 is simply from areas with no data (labelled 255 on all bands). \n"
      ]
    },
    {
      "cell_type": "code",
      "metadata": {
        "id": "D3tnxTZOIjcz",
        "colab_type": "code",
        "colab": {}
      },
      "source": [
        "##codecell_RasterLandscape_MultibandRasterNodata\n",
        "\n",
        "#we can ckeck where on the image are the cell with no value\n",
        "# we use the clipped image and subset to only [:0,0] data\n",
        "clipped_img[:,0,0]"
      ],
      "execution_count": 0,
      "outputs": []
    },
    {
      "cell_type": "markdown",
      "metadata": {
        "id": "o7IIARF0ql8n",
        "colab_type": "text"
      },
      "source": [
        "#####**Let's interpret what's going on in each band**#####\n",
        "\n",
        "Different band ratios will highlight different features in a raster dataset. We might be interested in finding places where cropmarks are located, for example. \n",
        "\n",
        "There are lots of band ratios that will highlight more green and more stressed vegetation. A common ratio that does this is called NDVI- the normalized difference vegetation index. <br>\n",
        "\n",
        "*How does this work?* The density of vegetation (NDVI) at a certain point of the image is equal to the difference in the intensities of reflected light in the red and infrared range divided by the sum of these intensities. NDVI formula is based on how much red and NRI is present in the plant leaves, and can be formulate as follows:\n",
        "\n",
        "<img src=\"https://forums.autodesk.com/autodesk/attachments/autodesk/134/3992/1/ndvi_example.jpg\" width=\"600\"/>\n",
        "\n",
        "\n",
        "\n"
      ]
    },
    {
      "cell_type": "code",
      "metadata": {
        "id": "Iu5JDFItIm51",
        "colab_type": "code",
        "colab": {}
      },
      "source": [
        "##codecell_RasterLandscape_NDVI\n",
        "\n",
        "# let's calculate NDVI\n",
        "# but we want to make sure that to ignore errors due to NaN pixels \n",
        "#you remember these... revisit in #codecell__Webmaps&Distributions_ChangingDataType\n",
        "\n",
        "np.seterr(divide='ignore', invalid='ignore')\n",
        "\n",
        "bandNIR = clipped_img[3] # fourth band\n",
        "bandRed = clipped_img[2] # second band\n",
        "\n",
        "#Let's now apply the NDVI formula\n",
        "# note that in python division of integers leads to integers\n",
        "# so we need to specify (.astype) floats in order to get floats for NDVI results\n",
        "# if you forgot what this means, revisit #codecell__Webmaps&Distributions_ChangingDataType\n",
        "\n",
        "ndvi = (bandNIR.astype(float)-bandRed.astype(float))/(bandNIR.astype(float)+bandRed.astype(float))\n",
        "#we now have a simple matrix"
      ],
      "execution_count": 0,
      "outputs": []
    },
    {
      "cell_type": "code",
      "metadata": {
        "id": "-xhq-V7QIxYW",
        "colab_type": "code",
        "colab": {}
      },
      "source": [
        "##codecell_RasterLandscape_showNDVI\n",
        "\n",
        "#show NDVI\n",
        "\n",
        "#here we are using matplotlib instead of the rasterio \n",
        "# because we are now dealing with a matrix\n",
        "plt.imshow(ndvi, cmap=\"RdYlGn\")\n",
        "plt.colorbar()\n",
        "plt.show()"
      ],
      "execution_count": 0,
      "outputs": []
    },
    {
      "cell_type": "markdown",
      "metadata": {
        "id": "eWjqd5osVtzb",
        "colab_type": "text"
      },
      "source": [
        "There is a lot of red for the water and green for the vegetation, so the formula looks like to apply correctly."
      ]
    },
    {
      "cell_type": "markdown",
      "metadata": {
        "id": "dydmvQsLd0c8",
        "colab_type": "text"
      },
      "source": [
        "##**Raster dataset & physical properties of landscapes**## "
      ]
    },
    {
      "cell_type": "markdown",
      "metadata": {
        "id": "_I-eT9OiM8Ng",
        "colab_type": "text"
      },
      "source": [
        "In this second part of the exercise, we'll be calculating some properties of the landscape like **slope** and **aspect** that are commonly used in analyses and models of where sites are likely to be visible.\n"
      ]
    },
    {
      "cell_type": "code",
      "metadata": {
        "id": "6VbXF4Dn_crq",
        "colab_type": "code",
        "colab": {}
      },
      "source": [
        "##codecell_RasterLandscape_ImportUrLibraries\n",
        "\n",
        "#let's work with geopandas again\n",
        "!pip install geopandas"
      ],
      "execution_count": 0,
      "outputs": []
    },
    {
      "cell_type": "code",
      "metadata": {
        "id": "YwXML27MJsxW",
        "colab_type": "code",
        "colab": {}
      },
      "source": [
        "##codecell_RasterLandscape_ImportUrLibraries\n",
        "\n",
        "#more tools. all the tools really!\n",
        "from shapely.geometry import mapping\n",
        "from shapely.geometry import Point\n",
        "from rasterio.mask import mask\n",
        "import geopandas as gpd\n",
        "import zipfile\n",
        "import io\n",
        "import requests\n",
        "import elevation\n",
        "import richdem as rd\n",
        "import gdal\n",
        "import os"
      ],
      "execution_count": 0,
      "outputs": []
    },
    {
      "cell_type": "markdown",
      "metadata": {
        "id": "9oC0ip5sa9ss",
        "colab_type": "text"
      },
      "source": [
        "###**Attribute raster: elevation dataset**###\n",
        "And now get some data to start the second part of the exercise- a raster dataset representing elevation referred to as a DEM or 'digital elevation model'. \n",
        "\n",
        "Revisit *lab2_Interactive maps and looking more at distributions_examples of interpolation*. However, there are many ways (>40! with the most common IDW, Spline, Trend Surface, Natural Neighbour, Kriging) to interpolate elevation points to create a surface.  which can be exact (a) and inexact (b) as demonstrated in image below:<br>\n",
        "\n",
        "<img src=\"https://github.com/Francoz-Charlotte/Spatial_teaching_CFediting/blob/master/Lab5_workingwithrasters_Surface.png?raw=1\" width=\"200\"/>\n"
      ]
    },
    {
      "cell_type": "code",
      "metadata": {
        "id": "GPf59uViMWjt",
        "colab_type": "code",
        "colab": {}
      },
      "source": [
        "##codecell_RasterLandscape_GetaDEM&clipIt\n",
        "\n",
        "#fetch elevation data from the SRTM server and clip to our area of interest\n",
        "dem_path = os.path.join(os.getcwd(),'areaDEM.tif')\n",
        "elevation.clip(bounds=(5.1, 43.65, 5.5, 43.95), output=dem_path)"
      ],
      "execution_count": 0,
      "outputs": []
    },
    {
      "cell_type": "code",
      "metadata": {
        "id": "xtyeWz48kCUE",
        "colab_type": "code",
        "colab": {}
      },
      "source": [
        "##codecell_RasterLandscape_LetsPlotDEM\n",
        "\n",
        "#check the DEM has loaded nicely by plotting it\n",
        "areaDEM = rd.LoadGDAL(dem_path)\n",
        "plt.imshow(areaDEM, interpolation='none')\n",
        "plt.colorbar()\n",
        "plt.show()"
      ],
      "execution_count": 0,
      "outputs": []
    },
    {
      "cell_type": "markdown",
      "metadata": {
        "id": "ktgtma3coyVs",
        "colab_type": "text"
      },
      "source": [
        "###**What can we do with a DEM?**###\n",
        "\n",
        "DEMS are useful for 3D visualisation, mapping purposes and various other applications, and, can also derive additional types of topographical models from a DEM such as slope, aspect, hillshape, 3d surface views, visibility analysis. We will compute and plot in this practical lab  **slope** and **aspect**. \n",
        "\n",
        "***Why use a Slope model?***\n",
        "*\tPredicting landslide risk\n",
        "*\tChoosing optimal alignment for new roads\n",
        "*\tDesigning drainage networks\n",
        "*\tLand suitability (e.g. residential construction, commercial forest plantation)\n",
        "*\tAssessing vulnerability to coastal erosion\n",
        "*\tOptimising route for hiking, cycling, walking.\n",
        "\n",
        "***What can we use an Aspect Model for?***\n",
        "*\tChoosing optimal location for a wind farm\n",
        "*\tDesigning layout of new housing developments\n",
        "*\tDefining slopes suitable for commercial crops\n",
        "*\tInferring soil moisture content and land slip risk (e.g. north and west facing slopes in Scotland generally wetter)\n",
        "\n",
        "\n"
      ]
    },
    {
      "cell_type": "markdown",
      "metadata": {
        "id": "i-p2Bq6prCTS",
        "colab_type": "text"
      },
      "source": [
        "###**Slope mapping**####"
      ]
    },
    {
      "cell_type": "code",
      "metadata": {
        "id": "YmnSX3kUhG88",
        "colab_type": "code",
        "colab": {}
      },
      "source": [
        "##codecell_RasterLandscape_DEMSlope\n",
        "\n",
        "slope = rd.TerrainAttribute(areaDEM, attrib='slope_riserun')\n",
        "rd.rdShow(slope, axes=False, cmap='magma', figsize=(8, 5.5))\n",
        "plt.show()"
      ],
      "execution_count": 0,
      "outputs": []
    },
    {
      "cell_type": "markdown",
      "metadata": {
        "id": "b3IHT7jEoenx",
        "colab_type": "text"
      },
      "source": [
        "#####**Learning a new language – decomposing the code**##### \n",
        "\n",
        "In *#codecell_RasterLandscape_DEMSlope*,  you have used <font color='magenta'> rd.TerrainAttribute </font> function to compute the **slope**  for each pixel containing the levation value and used <font color='magenta'> rdShow </font> function to visualise the slope map.\n",
        "<br>\n",
        "There are multiple ways to represent the slope values, you read richdem docs (see lexicode for a link) for more options!\n"
      ]
    },
    {
      "cell_type": "markdown",
      "metadata": {
        "id": "BTH_cIYurHZo",
        "colab_type": "text"
      },
      "source": [
        "###**Aspect mapping**####"
      ]
    },
    {
      "cell_type": "code",
      "metadata": {
        "id": "4RNQ4_gPpFbm",
        "colab_type": "code",
        "colab": {}
      },
      "source": [
        "##codecell_RasterLandscape_DEMAspect\n",
        "\n",
        "# now do the same thing to calculate and plot the aspect data\n",
        "aspect = rd.TerrainAttribute(areaDEM, attrib='aspect')\n",
        "rd.rdShow(aspect, axes=False, cmap='jet', figsize=(8, 5.5))\n",
        "plt.show()"
      ],
      "execution_count": 0,
      "outputs": []
    },
    {
      "cell_type": "markdown",
      "metadata": {
        "id": "tROFCIP0pycv",
        "colab_type": "text"
      },
      "source": [
        "#####**Learning a new language – decomposing the code**##### \n",
        "\n",
        "In *#codecell_RasterLandscape_DEMAspect*,  you have used <font color='magenta'> rd.TerrainAttribute() </font> function to compute the **aspect**  for each pixel containing the levation value and used <font color='magenta'> rdShow() </font> function to visualise the aspect map.\n",
        "<br> "
      ]
    },
    {
      "cell_type": "markdown",
      "metadata": {
        "id": "rMCr440t087F",
        "colab_type": "text"
      },
      "source": [
        "###**Contours mapping**####\n",
        "Contours, a common way to visualize elevation data, can also be derived from a raster.\n",
        "\n",
        "*visual representation of Iceland’s elevation levels published by CartoDB*<br>\n",
        "<img src=\"https://icelandnaturally.com/wp-content/uploads/Iceland_isomap.jpg\" width=\"600\"/>\n"
      ]
    },
    {
      "cell_type": "code",
      "metadata": {
        "id": "b4Tf20aB0D-H",
        "colab_type": "code",
        "colab": {}
      },
      "source": [
        "##codecell_RasterLandscape_DEMrastertoArray\n",
        "\n",
        "#this script is using gdal library (see lexicode)\n",
        "#to avoid having to bring your raster block by block\n",
        "\n",
        "\n",
        "# we need to open the raster file using gdal library\n",
        "#and essentially let gdal read what is in our 1 band DEM\n",
        "gdal_data = gdal.Open(dem_path)\n",
        "gdal_band = gdal_data.GetRasterBand(1)\n",
        "nodataval = gdal_band.GetNoDataValue()\n",
        "\n",
        "# let's convert to a numpy array\n",
        "data_array = gdal_data.ReadAsArray().astype(np.float)\n",
        "data_array\n",
        "\n",
        "# replace missing values if necessary\n",
        "# you knopw this by now ... we are talking about NaN values (the very annoying ones)\n",
        "if np.any(data_array == nodataval):\n",
        "    data_array[data_array == nodataval] = np.nan"
      ],
      "execution_count": 0,
      "outputs": []
    },
    {
      "cell_type": "code",
      "metadata": {
        "id": "Pzt-Ih8Xz7VB",
        "colab_type": "code",
        "colab": {}
      },
      "source": [
        "##codecell_RasterLandscape_DEMrasterPlotCountoursLines\n",
        "\n",
        "#Plot out data using Matplotlib tool 'contour'\n",
        "#the script layout is very similar to last week's practical on spatialpatterns\n",
        "\n",
        "fig = plt.figure(figsize = (12, 8))\n",
        "ax = fig.add_subplot(111)\n",
        "plt.contour(data_array, cmap = \"viridis\", \n",
        "            levels = list(range(0, 5000, 100)))\n",
        "plt.title(\"Elevation Contours\")\n",
        "cbar = plt.colorbar()\n",
        "plt.gca().set_aspect('equal', adjustable='box')\n",
        "plt.show()\n",
        "\n",
        "# and here we go!"
      ],
      "execution_count": 0,
      "outputs": []
    },
    {
      "cell_type": "code",
      "metadata": {
        "id": "SYuAf_L11RzO",
        "colab_type": "code",
        "colab": {}
      },
      "source": [
        "##codecell_RasterLandscape_DEMrasterPlotCountoursFilled\n",
        "\n",
        "#Plot our data using Matplotlib tool 'contourf' to get filled contours\n",
        "fig = plt.figure(figsize = (12, 8))\n",
        "ax = fig.add_subplot(111)\n",
        "plt.contourf(data_array, cmap = \"viridis\", \n",
        "            levels = list(range(0, 5000, 500)))\n",
        "plt.title(\"Elevation Contours\")\n",
        "cbar = plt.colorbar()\n",
        "plt.gca().set_aspect('equal', adjustable='box')\n",
        "plt.show()"
      ],
      "execution_count": 0,
      "outputs": []
    },
    {
      "cell_type": "markdown",
      "metadata": {
        "id": "rd91jFvh1zuV",
        "colab_type": "text"
      },
      "source": [
        "That's it for this lesson. Hopefully you've seen how you can access and manipulate raster data to represent the landscape or environmental factors. "
      ]
    },
    {
      "cell_type": "markdown",
      "metadata": {
        "id": "0U2G_IqKe2Wl",
        "colab_type": "text"
      },
      "source": [
        "#**LexiCode**#\n",
        "To re-use the codes - you will need to first load their respective libraries.  So far, you have used ...:\n",
        "\n",
        "\n",
        "<br>\n",
        "\n",
        "> **libraries** | | | |\n",
        ">--- |--- | --- | --- |\n",
        ">folium | numpy  | [rasterio](https://rasterio.readthedocs.io/en/stable/quickstart.html)|\n",
        ">branca| rtree | [richdem](https://richdem.readthedocs.io/en/latest/)|\n",
        ">pandas| osmnx| [elevation](https://pypi.org/project/elevation/)|\n",
        ">geopandas| requests | zipfile |\n",
        ">seaborn | fiona| io |\n",
        ">matplotlib.pyplot | ipywidgets|requests |\n",
        "> pysal |seaborn |[gdal](https://gdal.org/)|\n",
        "> os |\n",
        "\n",
        "<br>\n",
        "\n",
        "\n",
        " **plugins**| |\n",
        "--- |--- |\n",
        "HeatMapWithTime \n",
        "HeatMap\n",
        "MeasureControl\n",
        "PrepareUrBasemaps_CreateLayers from [folium.plugins]\n",
        "cluster (from sklearn)\n",
        "rasterio.plot\n",
        "mapping (from shapely.geometry)\n",
        "Point(from shapely.geometry)  \n",
        "mask (from rasterio.mask) \n",
        "\n",
        "<br>\n",
        "\n",
        "your lexicode is non-exhaustive, keep expanding, find your own 'best way' to reuse these code/scripts...\n",
        "\n",
        "<br>\n",
        "\n",
        ">Lexicode_MakingaBasicMap | Lexicode_Webmaps&Distributions |Lexicode_StreetGridOrientations | Lexicode_SpatialPatterns | Lexicode_RasterLandscape\n",
        ">--- | --- | ---|---|----|\n",
        "> ==   () [] | pd.concat() | { } *subselection from list*|%matplotlib inline  | .open()\n",
        ">.head_csv() | .dtype() | ox.gdf_from_places()|requests.get()|.print()\n",
        ">.read_csv() | astype() | ox.plot_shape()|request.content()|dataset.name|\n",
        ">mean()  | fillna()|network_type= ''|.bytes()|dataset.count|\n",
        ">folium.Map | def return |ox.add_edge_bearings(ox.get_undirected())|gpd.GeoDataFrame.from_features()|dataset.shape|\n",
        ">range() | .apply(lambda x:*function*,axis=) |count_and_merge()|Set()|dataset.descriptions|\n",
        ">len() | pd.merge() |np.arrange()|pd.value_counts() |dataset.meta|\n",
        ">iloc[]| how= , left_index= ,left_index= |np.histogram()|.merge()|dataset.driver|\n",
        ">.value_counts()| gpd.GeoDataFrame()| ax.set_theta_location()|.sort_values|dataset.read\n",
        ">if =:| geometry=gpd.points_from_xy |ax.set_ylim()|cluster.KMeans()|.shape\n",
        ">elif =: |print() |ax.set_title()|.fit()|np.amean()\n",
        ">else =:| .isin()|ax.set_yticks()|.drop() |np.amin ()\n",
        ">folium.Marker()| classic.plot()|ax.set_xlabels() & ax.set_yticklabels|.assign()|np.amax()\n",
        ">folium.Icon()| generateBaseMap()|plt.subplots()|plt.show()|np.std()\n",
        ">folium.Circle| .groupby(['', ''])|.dropna()|.set_title|show()\n",
        ">popup= | .reset_index() |polar_plot()|sns.pairplot()|cmap=\n",
        ">radius= |  max_zoom= |pd.Series()|arrs.append()|np.seterr()\n",
        ">.values.tolist() |folium.TileLayer()|np.pi|.show_hist()|[plt.imshow](https://matplotlib.org/3.1.1/api/_as_gen/matplotlib.pyplot.imshow.html)\n",
        ">.add_to()| plugins.DualMap(location= , tiles= , zoom_start= )| | |clipped_img| \n",
        "> | | | |rd.TerrainAttribute()\n",
        ">  | | | |rdShow() \n",
        ">  | | | |gdal_data.GetRasterBand()\n",
        ">  | | | |gdal_band.GetNoDataValue()\n",
        ">  | | | |gdal_data.ReadAsArray\n",
        ">  | | | |gdal_data.ReadAsArray().astype(np.float)\n",
        ">  | | | |plt.contour()\n",
        ">  | | | |plt.contourf()\n",
        "\n"
      ]
    }
  ]
}