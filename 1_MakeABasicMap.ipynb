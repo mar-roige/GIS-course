{
  "nbformat": 4,
  "nbformat_minor": 0,
  "metadata": {
    "colab": {
      "name": "1_MakeABasicMap.ipynb",
      "provenance": [],
      "collapsed_sections": [],
      "include_colab_link": true
    },
    "kernelspec": {
      "name": "python3",
      "display_name": "Python 3"
    }
  },
  "cells": [
    {
      "cell_type": "markdown",
      "metadata": {
        "id": "view-in-github",
        "colab_type": "text"
      },
      "source": [
        "<a href=\"https://colab.research.google.com/github/mar-roige/GIS-course/blob/master/1_MakeABasicMap.ipynb\" target=\"_parent\"><img src=\"https://colab.research.google.com/assets/colab-badge.svg\" alt=\"Open In Colab\"/></a>"
      ]
    },
    {
      "cell_type": "markdown",
      "metadata": {
        "id": "dfXStwLAk9GC",
        "colab_type": "text"
      },
      "source": [
        "# Getting Started\n",
        "\n",
        "First things first, if you haven't already done so: you need your own copy of this notebook. Once in Colab, go to \"File\" and  'save a copy in github' (give access if needed.... put it into the repository you made for this course).\n",
        "\n",
        "Now you have your own copy of the notebook. Click 'open in colab' to get started working on the practical exercise. \n",
        "\n",
        "* **Reminders**:    \n",
        " * [GitHub](https://github.com/) is widely known as one of the most popular code hosting platforms for version control and collaboration. This is where these notebooks will be saved and accessed publicly.\n",
        " * [Jupyter notebooks](https://jupyter.org) are web applications that you will be using in the practical classes. They ease the creation and sharing of documents containing live code. You can explore a [gallery](https://github.com/jupyter/jupyter/wiki/A-gallery-of-interesting-Jupyter-Notebooks) of interesting Jupyter notebooks and read why Jupyter is data scientists’ computational notebook of choice ([i](https://www.nature.com/news/interactive-notebooks-sharing-the-code-1.16261) and [ii](https://www.nature.com/articles/d41586-018-07196-1)).\n",
        " * [Colab](https://colab.research.google.com) is a platform enabling work with large datasets and intensive computations, provided by Google. The platform is designed to test machine learning models, otherwise known as artificial intelligence (AI) systems with the ability to \"learn\" and improve from experience without being explicitly programmed, and can host Jupyter notebooks. Colab was chosen because it is stable platform for our practical classes. However, this is not the only way to interact with your notebooks. For example [binder](https://mybinder.org/)  is also a live environment you can use to run the code in your notebooks.  \n",
        " \n",
        "\n",
        "\n",
        "---\n",
        "\n",
        "\n",
        "# What's a notebook and how does it work?\n",
        "The layout of these notebooks is simple. It is composed of two types of cells: \n",
        "\n",
        "* Text cells which are explanatory and that I will be using - a lot- to describe things to you.  These cells can be easily edited in a language called  [Markdown](https://jupyter-notebook.readthedocs.io/en/stable/examples/Notebook/Working%20With%20Markdown%20Cells.html).\n",
        "\n",
        "* Code cells which we will use to do things. They  are executable code, mostly written in programming [language](https://jupyter-notebook.readthedocs.io/en/stable/examples/Notebook/Running%20Code.html#Code-cells-allow-you-to-enter-and-run-code). To make things happen in a code cell you can click on the cell and then type 'ctrl + enter' or push the play button that will appear on the left. These code cells are commonly using a language called [Python](https://www.python.org/) or [R](https://www.r-project.org/). In this course we'll mostly be using python. As you know, stereotypically archaeologists hate snakes. Python is the exception to this. \n",
        "\n",
        "You can add text or code cells to your version of the notebook (how? place the cursor at the bottom of a cell, and 2 tabs appear - code cell or text cell, choose one and you are ready to go!). \n",
        "\n",
        "\n",
        "\n",
        "---\n",
        "\n",
        " \n"
      ]
    },
    {
      "cell_type": "markdown",
      "metadata": {
        "id": "vVM1mmNj6SWE",
        "colab_type": "text"
      },
      "source": [
        "\n",
        "# What we are doing\n",
        "In this practical exercise, you will make some basic maps. You're making them interactively in this notebook. To get started, we will get the tools we need. These tools are open source libraries from Python that enable powerful data visualisation. This is in fact the first bit of python code you are using today! \n",
        "\n",
        "We will always start a practical exercise in a notebook  like this. In this lab, we are using Panda, Folium and Branca libraries."
      ]
    },
    {
      "cell_type": "code",
      "metadata": {
        "id": "ws-jEcyKk0MF",
        "colab_type": "code",
        "colab": {}
      },
      "source": [
        "#codecell_makeabasicmap_importyourlibraries\n",
        "import folium\n",
        "import branca\n",
        "import pandas as pd\n",
        "print(folium.__file__)\n",
        "print(folium.__version__)"
      ],
      "execution_count": 0,
      "outputs": []
    },
    {
      "cell_type": "markdown",
      "metadata": {
        "id": "ZnRemIE7mUQK",
        "colab_type": "text"
      },
      "source": [
        "# To make a map we need to get some data. \n",
        "This data must be explicitly spatial - that is have spatial coordinates that tell us about locations in a way that machines can understand. Spatial coordinates are pairs of numbers organised on a x-horizontal and y-vertical axis – this is the bit of geometry you will be using the most as an archaeologist! \n",
        "\n",
        "Coordinates (x,y) can also be called eastings & northings or latitude & longitudes depending on the type projection used to transform the map (refer to your First Course Meeting notes). The most common coordinate format for maps on the internet are [latitude and longitude coordinates](https://www.latlong.net/). \n",
        "\n",
        "\n",
        "\n",
        "---\n",
        "\n",
        "\n",
        "\n",
        "![Xs&Ys](https://github.com/Francoz-Charlotte/Spatial_teaching_CFediting/blob/master/x&y.png?raw=1) \n",
        "\n",
        "**Example of a cylindrical projection of the world**\n",
        "\n",
        "\n",
        "\n",
        "---\n",
        "\n",
        "\n",
        "\n",
        "\n",
        "In this notebook, we'll experiment with the spatial data from:\n",
        "\n",
        " Palmisano, A., Bevan, A. and Shennan, S., 2018. Regional Demographic Trends and Settlement Patterns in Central Italy: Archaeological Sites and Radiocarbon Dates. **Journal of Open Archaeology Data**, 6(1), p.2. DOI: [http://doi.org/10.5334/joad.43](http://doi.org/10.5334/joad.43)\n",
        " \n",
        "(Which you should have read about before class!)\n",
        " \n",
        "\n",
        "---\n",
        "\n",
        "\n",
        "These nice people provided the data behind their analysis so we can re-use it. I converted their old school shapefile to a CSV for you to make things easier. If you ever have to do this yourself, there are lots of online converters like [this one](https://mygeodata.cloud/converter/shp-to-csv). \n",
        "\n",
        "Later in the course, you will also learn to read data from shapefiles directly into your notebook. This is a little more complicated, so we are skipping it for now.\n",
        "\n",
        "* **Reminders**: \n",
        "a shapefile is a vector data storage file format that can be used in spatial software such as [Q-GIS](https://www.qgis.org/en/site/) (refer to your First Course Meeting notes). \n",
        "A CSV file is simple tabular file format using commas or spaces to distinguish elements within it.\n"
      ]
    },
    {
      "cell_type": "code",
      "metadata": {
        "id": "F0B_wkOblGUW",
        "colab_type": "code",
        "colab": {}
      },
      "source": [
        "#codecell_makeabasicmap_GetUrdataReady\n",
        "\n",
        "#Get the data by reading it into the notebook\n",
        "palmisano_tuscany_sites = pd.read_csv(\"https://raw.githubusercontent.com/ropitz/spatialarchaeology/master/data/site_centriods_tuscany.txt\")\n",
        "\n",
        "palmisano_tuscany_sites.head()"
      ],
      "execution_count": 0,
      "outputs": []
    },
    {
      "cell_type": "markdown",
      "metadata": {
        "id": "QAwO-LHJ8Eka",
        "colab_type": "text"
      },
      "source": [
        ""
      ]
    },
    {
      "cell_type": "markdown",
      "metadata": {
        "id": "kyRsKLy6AtbQ",
        "colab_type": "text"
      },
      "source": [
        "#Learning a new language – decomposing the code\n",
        "\n",
        "In #codecell_makeabasicmap-GetUrdataReady, we have a simple piece of code which allows you to open the CSV file containing the archaeological sites information. The image below will help you to understand the code better and reuse it easily.\n",
        "\n",
        "![makeabasicmap_GetUrdataReady](https://github.com/Francoz-Charlotte/Spatial_teaching_CFediting/blob/master/makeabasicmap_GetUrdataReady_2.jpg?raw=1)\n",
        "\n",
        "\n",
        "\n",
        "\n"
      ]
    },
    {
      "cell_type": "markdown",
      "metadata": {
        "id": "14eCo5OlnD6b",
        "colab_type": "text"
      },
      "source": [
        "# Maps should answer questions\n",
        "\n",
        "We've discussed how to come up with a good, explicitly spatial question. We've also discussed how to design a good map. Here you're going to start putting all this into practice.\n",
        "\n",
        "The data in Palmisano et al. (2018) article provides information about settlement and population patterns in central Italy and how they change over time. Where people were living and working at various times in the past is a basic archaeological question.\n",
        "\n",
        "Let's say your question is about how many iron age sites are present in the region, and what their distribution is like in space - that is where they are located and how many relatively speaking are in each area. How would you go about answering this question with a map?\n",
        "\n",
        "# Start by filtering your big dataset to get only the data you need\n",
        "\n",
        "The original data file contains over 10970 entries for all archaeological settlement in Central Italy. So you need to filter or SUBSELECT your big data file to get just the iron age sites.\n"
      ]
    },
    {
      "cell_type": "code",
      "metadata": {
        "id": "1PiNejEBmrhR",
        "colab_type": "code",
        "colab": {}
      },
      "source": [
        "#codecell_makeabasicmap_SubSelectData\n",
        "\n",
        "#tell the notebook you only want to see stuff where the period is the iron age.\n",
        "palmisano_tuscany_sites_iron_age = palmisano_tuscany_sites[(palmisano_tuscany_sites['Period']==\"Iron Age\") ]\n",
        "\n",
        "palmisano_tuscany_sites_iron_age.head()"
      ],
      "execution_count": 0,
      "outputs": []
    },
    {
      "cell_type": "markdown",
      "metadata": {
        "colab_type": "text",
        "id": "FpEzAptwEiKz"
      },
      "source": [
        "#Learning a new language – decomposing the code\n",
        "\n",
        "In the #code_makeabasicmap_SubSelectData, we have a simple piece of code which allows you to open the CSV file containing the archaeological sites information. The image below is decomposing this codeline, so you can understand how python language works and re-use it easily.  \n",
        "\n",
        "![](https://github.com/Francoz-Charlotte/Spatial_teaching_CFediting/blob/master/makeabasicmap_SubSelectData.jpg?raw=1)"
      ]
    },
    {
      "cell_type": "markdown",
      "metadata": {
        "id": "lTRfAfasnd1A",
        "colab_type": "text"
      },
      "source": [
        "# Put the data onto a map\n",
        "Now we want to add this data to a simple map. \n",
        "\n",
        "You need to start by getting the coordinates of all the points so you can center the map - that is focus on the area where your data is. Probably it will be a good idea to put the middle of your map roughly where the middle of your dataset is located. \n",
        "\n",
        "Think about it... if your data is in Italy, putting Antarctica as the center of your map is not going to be very effective.\n",
        "\n",
        "![Antarctica is not where the map should be](https://upload.wikimedia.org/wikipedia/commons/thumb/e/e0/Antarctica_6400px_from_Blue_Marble.jpg/310px-Antarctica_6400px_from_Blue_Marble.jpg)\n",
        "\n",
        "\n",
        "Now, you want to add a marker for each Iron Age site. A marker, recall, is a graphic icon to represent the coordinates where a site is centred. \n"
      ]
    },
    {
      "cell_type": "code",
      "metadata": {
        "id": "DhHMGaQMneNF",
        "colab_type": "code",
        "colab": {}
      },
      "source": [
        "#codecell_makeabasicmap_BringingUrData2theMap\n",
        "\n",
        "#location is the mean of every lat and long point to centre the map.\n",
        "location = palmisano_tuscany_sites_iron_age['Latitude'].mean(), palmisano_tuscany_sites_iron_age['Longitude'].mean()\n",
        "\n",
        "#A basemap is then created using the location to centre on and the zoom level to start.\n",
        "m = folium.Map(location=location,zoom_start=10)\n",
        "\n",
        "#Each location in the DataFrame is then added as a marker to the basemap points are then added to the map\n",
        "for i in range(0,len(palmisano_tuscany_sites_iron_age)):\n",
        "    folium.Marker([palmisano_tuscany_sites_iron_age['Latitude'].iloc[i],palmisano_tuscany_sites_iron_age['Longitude'].iloc[i]]).add_to(m)\n",
        "        \n",
        "#To display the map simply ask for the object (called 'm') representation\n",
        "m"
      ],
      "execution_count": 0,
      "outputs": []
    },
    {
      "cell_type": "markdown",
      "metadata": {
        "id": "9og4onHTCWr9",
        "colab_type": "text"
      },
      "source": [
        "#Learning a new language – decomposing the code\n",
        "\n",
        "The #codecell_makeabasicmap_BringingUrData2theMap contains four codelines aimed to:\n",
        "\n",
        "* centre your map by calculating the mean of the latitude coordinates and mean of longitude coordinates;\n",
        "\n",
        "* zoom your map to a suitable level - e.g. world, country, region or street level;\n",
        "\n",
        "* place a marker for each archaeological site location.\n",
        "\n",
        "* show the results interactively.\n",
        "\n",
        "\n",
        "Below are the three codelines of the script decomposed for you, so you can adapt it easily in the future.\n",
        "\n",
        "![](https://github.com/Francoz-Charlotte/Spatial_teaching_CFediting/blob/master/makeabasicmap_BringingUrData2theMap_codeline1.jpg?raw=1)\n",
        "\n",
        "**Reminder**: the mean or average of a set is the total sum of all numbers divided by the number of items in the set. So, for instance, the mean of latitude coordinates = sum of all latitude coordinates/ divided by the number of latitude coordinates in the dataframe.\n",
        "\n",
        "\n",
        "---\n",
        "\n",
        "\n",
        "\n",
        "![](https://github.com/Francoz-Charlotte/Spatial_teaching_CFediting/blob/master/makeabasicmap_BringingUrData2theMap_codeline2.jpg?raw=1)\n",
        "\n",
        "This codeline shows the powerful capabilities of the Folium library you've imported at the start of this practical lab. You can find more detailed guidance about it [here](https://python-visualization.github.io/folium/).\n",
        "\n",
        "\n",
        "---\n",
        "\n",
        "\n",
        "\n",
        "![](https://github.com/Francoz-Charlotte/Spatial_teaching_CFediting/blob/master/makeabasicmap_BringingUrData2theMap_codeline3.jpg?raw=1)\n",
        "\n",
        "This codeline introduces you to two important concepts in coding: the [range](https://pynative.com/python-range-function/) and the loop by using iloc command. \n",
        "Furthermore, by using range(), len() and iloc() you could implement a loop in Python for iterating rows and columns of your filtered pandas dataframe (palminsano_tuscany_sites_iron_age).\n",
        "\n",
        "---\n",
        "\n"
      ]
    },
    {
      "cell_type": "markdown",
      "metadata": {
        "id": "xT89bOyooeE9",
        "colab_type": "text"
      },
      "source": [
        "\n",
        "# Yay! \n",
        "\n",
        "You have a map. Now, a design question: what is a good starting zoom level?\n",
        "\n",
        "Do you want your map zoomed further out or further in given the extent of your data? \n",
        "\n",
        "In the code cell above, play around with the '**zoom_start**' parameter and find a good zoom level that makes you happy.\n",
        "\n",
        "\n",
        "---\n",
        "\n",
        "# You just modified the code to suit your own needs\n",
        "\n",
        "Rather than just executing code by pushing play, you've edited the code by changing a variable. \n",
        "\n",
        "Easy, right?\n",
        "\n",
        "This is where many people get started with scripting in archaeology. You find a bit of [open source code](https://opensource.com/resources/what-open-source) that seems to do what you need, and then you modify it. There's no sense in writing code from scratch when there's lots of useful open source code available that is meant to be shared and modified.\n",
        "\n"
      ]
    },
    {
      "cell_type": "markdown",
      "metadata": {
        "id": "T6kjhm_lpmEu",
        "colab_type": "text"
      },
      "source": [
        "# Representing information and relative values or quantities with graphics\n",
        "\n",
        "Now let's look at how to represent larger and smaller sites. The archaeologists in this project have a qualitative ranking of site size from large (A) to small (F). \n",
        "\n",
        "You can see the categories they've used, and that there are more small sites than larger ones. \n",
        "\n",
        "Say you want to make the two categories of sites that are the largest different colours. Why do this? Maybe larger sites have more people, so this provides insights into demographics.\n",
        "\n"
      ]
    },
    {
      "cell_type": "code",
      "metadata": {
        "id": "-x3bmE-3ov3c",
        "colab_type": "code",
        "colab": {}
      },
      "source": [
        "#codecell_makeabasicmap_ManipulatingyourData_ValueCounting\n",
        "\n",
        "# Size surely matters... group the sites by size category and get the number of sites in each size category.\n",
        "# SizeQual is the name of the 'attribute', or column in the table, that has information on site size. \n",
        "# An attribute is anything attached to spatial data other than the coordinates, such as period, type, size in hectare,etc. \n",
        "\n",
        "palmisano_tuscany_sites_iron_age['SizeQual'].value_counts()"
      ],
      "execution_count": 0,
      "outputs": []
    },
    {
      "cell_type": "markdown",
      "metadata": {
        "id": "MsrofuJaS789",
        "colab_type": "text"
      },
      "source": [
        "\n",
        "\n",
        "\n",
        "---\n",
        "\n",
        "\n",
        "**Learning a new language – decomposing the code**:\n",
        "\n",
        "**.value_counts()** is a function that allows you to count numerical and categorical data (e.g. numbers, objects or labels such as attributes). The results are returned as a series of numbers in descending order, so, that you can further evaluate the frequency and distribution of these values.\n",
        "\n",
        "---\n",
        "\n",
        "\n",
        "\n"
      ]
    },
    {
      "cell_type": "markdown",
      "metadata": {
        "id": "mwFZ8ugBIud3",
        "colab_type": "text"
      },
      "source": [
        "In the step above, #codecell_makeabasicmap_SubSelectData, you've set up your new dataset by filtering the iron age settlements from the original dataset. It's what we would call a 'subset' of your original data.\n",
        "\n",
        "Now you are ready to make a new map."
      ]
    },
    {
      "cell_type": "code",
      "metadata": {
        "id": "_vu_cUOzp77n",
        "colab_type": "code",
        "colab": {}
      },
      "source": [
        "#codecell_makeabasicmap_ManipulatingyourData_UsingSymbology\n",
        "\n",
        "#now make a map just like you did before. Note that this time we're adding a scale bar with 'control_scale'\n",
        "location = palmisano_tuscany_sites_iron_age['Latitude'].mean(), palmisano_tuscany_sites_iron_age['Longitude'].mean()\n",
        "m = folium.Map(location=location,zoom_start=10,control_scale = True)\n",
        "\n",
        "#Assign different colours to the two large site categories - B and C in this case\n",
        "for i in range(0,len(palmisano_tuscany_sites_iron_age)):\n",
        "\n",
        "\n",
        "    site_size = palmisano_tuscany_sites_iron_age['SizeQual'].iloc[i]\n",
        "    if site_size == 'C':\n",
        "        color = 'blue'\n",
        "    elif site_size == 'B':\n",
        "        color = 'green'\n",
        "    else:\n",
        "        color = 'red'\n",
        "    \n",
        "# add the markers to the map, using the locations and colours    \n",
        "    folium.Marker([palmisano_tuscany_sites_iron_age['Latitude'].iloc[i],palmisano_tuscany_sites_iron_age['Longitude'].iloc[i]],icon=folium.Icon(color=color)).add_to(m)\n",
        "\n",
        "#type 'm' for map (the variable you set above) to tell the notebook to display your map\n",
        "m"
      ],
      "execution_count": 0,
      "outputs": []
    },
    {
      "cell_type": "markdown",
      "metadata": {
        "id": "yUZmFVuyJ9tN",
        "colab_type": "text"
      },
      "source": [
        "#Learning a new language – decomposing the code\n",
        "for #codecell_makeabasicmap_ManipulatingyourData_UsingSymbology can be decomposed like this:\n",
        "\n",
        "![](https://github.com/Francoz-Charlotte/Spatial_teaching_CFediting/blob/master/makeabasicmap_ManipulatingyourData_UsingSymbology_.jpg?raw=1) \n",
        "\n",
        "\n",
        "\n",
        "\n",
        "\n",
        "---\n",
        "\n",
        "\n",
        "* Note: You can easily change icon style  and find more in this [list](https://fontawesome.com/icons?d=gallery). \n"
      ]
    },
    {
      "cell_type": "markdown",
      "metadata": {
        "id": "VjuGVxl8rKue",
        "colab_type": "text"
      },
      "source": [
        "# Designing your map - Symbology\n",
        "\n",
        "Now, go back into #codecell_makeabasicmap_ManipulatingyourData_UsingSymbology and experiment a bit. Try out some different colours. Do certain combinations work well? Try adding different colours for each of the smaller categories of sites. Does that make the map clearer or more confusing?"
      ]
    },
    {
      "cell_type": "markdown",
      "metadata": {
        "id": "ZcN5jSj13Ive",
        "colab_type": "text"
      },
      "source": [
        "## What symbol scheme is best for your map?\n",
        "\n",
        "Maybe it makes more sense to show size by changing the size of the icon than the colour. Let's make another map that varies the size of the icon for each site based on its size in hectares. "
      ]
    },
    {
      "cell_type": "code",
      "metadata": {
        "id": "8d_u8uL5wKBg",
        "colab_type": "code",
        "colab": {}
      },
      "source": [
        "#codecell_makeabasicmap_ManipulatingyourData_UsingSymbologyExperimenting\n",
        "\n",
        "#now make a map just like you did before. \n",
        "location = palmisano_tuscany_sites_iron_age['Latitude'].mean(), palmisano_tuscany_sites_iron_age['Longitude'].mean()\n",
        "m = folium.Map(location=location,zoom_start=8,control_scale = True)\n",
        "\n",
        "\n",
        "# Set the size for each circle icon by defining the 'radius' which is the radius of the circle\n",
        "# Here we are multiplying the size in hectares (the SizeHa attribute) by 15. Try different values here to get icons a size you like\n",
        "for i in range(0,len(palmisano_tuscany_sites_iron_age)):\n",
        "   folium.Circle(\n",
        "      location=[palmisano_tuscany_sites_iron_age['Latitude'].iloc[i],palmisano_tuscany_sites_iron_age['Longitude'].iloc[i]],\n",
        "      popup=palmisano_tuscany_sites_iron_age.iloc[i]['Toponyms'],\n",
        "      radius=palmisano_tuscany_sites_iron_age.iloc[i]['SizeHa']*15, #this is where we set the value of 15 - change this variable to get differrent size icons\n",
        "      color='crimson',\n",
        "      fill=True,\n",
        "      fill_color='crimson'\n",
        "   ).add_to(m)\n",
        "    \n",
        "#type 'm' for map (the variable you set above) to tell the notebook to display your map\n",
        "m"
      ],
      "execution_count": 0,
      "outputs": []
    },
    {
      "cell_type": "markdown",
      "metadata": {
        "id": "0lgx9Jyg9FAz",
        "colab_type": "text"
      },
      "source": [
        "#Learning a new language – decomposing the code\n",
        "\n",
        "for #codecell_makeabasicmap_ManipulatingyourData_UsingSymbologyExperimenting can be decomposed like this:\n",
        "\n",
        "![](https://github.com/Francoz-Charlotte/Spatial_teaching_CFediting/blob/master/makeabasicmap_ManipulatingyourData_UsingSymbologyExperimenting.jpg?raw=1)"
      ]
    },
    {
      "cell_type": "markdown",
      "metadata": {
        "id": "UGrxvlO1sn1m",
        "colab_type": "text"
      },
      "source": [
        "# thinking about spatial density or 'clustering' or conceptration\n",
        "\n",
        "**Research question** Now what if you want to make a map that shows the concentration of sites in the iron age, that is areas with more and fewer sites? \n",
        "\n",
        "\n",
        "This kind of map is often called a 'heatmap'. Essentially it shows areas with more sites as 'hotter' (generally red in colour) and areas with fewer sites as cooler.In this kind of map surely larger sites should count more - we call this 'weighting'. The general idea is that a site that is twice as large should count for twice as much in our heatmap.\n",
        "\n",
        "Weighting can influence the results of spatial analyses of our data. For example, consider the distribution of points in the image below. If we allow all the sites to count equally in and then calculate their mean coordinates (see the explanation above about calculating the mean) the center is 'unweighted' and will end up where the red circle in the top image is. On the other hand, if we set up weights so that the size of the site corresponds to its influence on our calculated mean coordinates, we end up with the center of our distribution where the red circle in the bottom image is. \n",
        "\n",
        "\n",
        "![](https://github.com/Francoz-Charlotte/Spatial_teaching_CFediting/blob/master/SpatialAnalysis_Weighted.jpg?raw=1)\n",
        "\n",
        "Adapted from (https://pro.arcgis.com/en/pro-app/tool-reference/spatial-statistics/using-weights.htm)\n",
        "\n",
        "*When might this be important? What kinds of archaeological questions involve finding the spatial centre of a distribution of sites or finds or features?*"
      ]
    },
    {
      "cell_type": "code",
      "metadata": {
        "id": "dMDhTabesLOc",
        "colab_type": "code",
        "colab": {}
      },
      "source": [
        "#codecell_makeabasicmap_ManipulatingyourData_Heatmap\n",
        "\n",
        "#first make a list of the coordinates of each site and its size in hectares, which we will use for the size-based weighting\n",
        "data_heat = palmisano_tuscany_sites_iron_age[['Latitude','Longitude','SizeHa']].values.tolist()"
      ],
      "execution_count": 0,
      "outputs": []
    },
    {
      "cell_type": "code",
      "metadata": {
        "id": "pzzi69aXtyMN",
        "colab_type": "code",
        "colab": {}
      },
      "source": [
        "#look at the first line of your list to check it seems to have worked\n",
        "data_heat[0]"
      ],
      "execution_count": 0,
      "outputs": []
    },
    {
      "cell_type": "code",
      "metadata": {
        "id": "TVAorbp9uKIS",
        "colab_type": "code",
        "colab": {}
      },
      "source": [
        "#to make the heatmap, we need to get an extra tool, so...\n",
        "import folium.plugins as plugins\n",
        "\n"
      ],
      "execution_count": 0,
      "outputs": []
    },
    {
      "cell_type": "code",
      "metadata": {
        "id": "ZIe4sfeVuM80",
        "colab_type": "code",
        "colab": {}
      },
      "source": [
        "# now make a map a bit like you did before, set your zoom level and your centre location. Then use the plugin to make the heatmap. \n",
        "\n",
        "m = folium.Map(location=location, zoom_start=10)\n",
        "\n",
        "#tiles='stamentoner'\n",
        "\n",
        "plugins.HeatMap(data_heat).add_to(m)\n",
        "\n",
        "#type 'm' for map (the variable you set above) to tell the notebook to display your map\n",
        "m"
      ],
      "execution_count": 0,
      "outputs": []
    },
    {
      "cell_type": "markdown",
      "metadata": {
        "id": "5e19_h8BFXjE",
        "colab_type": "text"
      },
      "source": [
        "#Learning a new language – decomposing the code\n",
        "\n",
        "for #codecell_makeabasicmap_ManipulatingyourData_Heatmap can be decomposed like this:\n",
        "\n",
        "\n",
        "![](https://github.com/Francoz-Charlotte/Spatial_teaching_CFediting/blob/master/makeabasicmap_ManipulatingyourData_Heatmap.jpg?raw=1)\n",
        "\n",
        "\n",
        "---\n",
        "\n",
        "\n",
        "\n",
        "For further documentation on folium plugins follow [link](https://python-visualization.github.io/folium/plugins.html)."
      ]
    },
    {
      "cell_type": "markdown",
      "metadata": {
        "id": "rRVg43qE5Y_Z",
        "colab_type": "text"
      },
      "source": [
        "# Success!\n",
        "\n",
        "You should have a heatmap showing the concentrations of Iron Age sites in the region.\n",
        "\n",
        "You could repeat the exercise with sites from any period in which you are interested.\n",
        "\n",
        "Hopefully you've learned to make some basic maps and are starting to understand how to put into practice some of the theory of map design and spatial visualisation we've been discussing.\n",
        "\n",
        "That's it for today... Remember to save your notebook (under a new name) so you can come back to it and practice making basic static maps. \n",
        "\n"
      ]
    },
    {
      "cell_type": "markdown",
      "metadata": {
        "id": "H4FKa3tQHVsi",
        "colab_type": "text"
      },
      "source": [
        "#LexiCode\n",
        "In this practical you have learned new commands that you can now reuse for your own datasets:\n",
        "*\t==  , () []\n",
        "*\t.head_csv()\n",
        "*\t.read_csv()\n",
        "*\tmean()\n",
        "*\tfolium.Map\n",
        "*\trange()\n",
        "*\tlen()\n",
        "*\tiloc[]\n",
        "*\t.value_counts()\n",
        "*\tif =:\n",
        "*\telif =:\n",
        "*\telse =:\n",
        "*\tfolium.Marker()\n",
        "*\tfolium.Icon()\n",
        "*\tfolium.Circle\n",
        "*\tpopup=\n",
        "*\tradius=\n",
        "*\t.values.tolist()\n",
        "*\tplugins.HeatMap()\n"
      ]
    }
  ]
}